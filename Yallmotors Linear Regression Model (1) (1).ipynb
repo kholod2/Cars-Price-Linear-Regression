{
 "cells": [
  {
   "cell_type": "markdown",
   "id": "c62c99cd",
   "metadata": {},
   "source": [
    "## Yallmotors Linear Regression Model"
   ]
  },
  {
   "cell_type": "markdown",
   "id": "a8cbf950",
   "metadata": {},
   "source": [
    "#### Steps : \n",
    "\n",
    "    - Import Dataset \n",
    "    - Cleaning \n",
    "    - Define x , y\n",
    "    - Split Dataset [training - test]\n",
    "    - build and train model \n",
    "    - predict the test data\n",
    "    - evaluate model \n",
    "    "
   ]
  },
  {
   "cell_type": "markdown",
   "id": "b83e29d5",
   "metadata": {},
   "source": [
    "### Data manipulation libraries:"
   ]
  },
  {
   "cell_type": "code",
   "execution_count": 180,
   "id": "565a2e5d",
   "metadata": {},
   "outputs": [],
   "source": [
    "import numpy as np \n",
    "import pandas as pd\n",
    "import warnings\n",
    "warnings.filterwarnings('ignore')"
   ]
  },
  {
   "cell_type": "markdown",
   "id": "c76ab26f",
   "metadata": {},
   "source": [
    "### Visualization libraries:"
   ]
  },
  {
   "cell_type": "code",
   "execution_count": 181,
   "id": "8a1bb0ac",
   "metadata": {},
   "outputs": [],
   "source": [
    "import matplotlib.pyplot as plt\n",
    "import seaborn as sns\n",
    "from pylab import rcParams\n",
    "rcParams['figure.figsize'] = 14, 8\n",
    "sns.set()"
   ]
  },
  {
   "cell_type": "markdown",
   "id": "cef88349",
   "metadata": {},
   "source": [
    "### ML libraries:"
   ]
  },
  {
   "cell_type": "code",
   "execution_count": 182,
   "id": "cf0cd7e7",
   "metadata": {},
   "outputs": [],
   "source": [
    "from sklearn.model_selection import train_test_split    #data splitting\n",
    "from sklearn.linear_model import LinearRegression       #build model"
   ]
  },
  {
   "cell_type": "markdown",
   "id": "d39cf46d",
   "metadata": {},
   "source": [
    "### Exploring the data"
   ]
  },
  {
   "cell_type": "markdown",
   "id": "abbc6705",
   "metadata": {},
   "source": [
    "### Load Dataset\n"
   ]
  },
  {
   "cell_type": "markdown",
   "id": "9f52b2a0",
   "metadata": {},
   "source": [
    "#### Read the `new cars.csv` dataset into an object named `df`"
   ]
  },
  {
   "cell_type": "code",
   "execution_count": 183,
   "id": "814bb53f",
   "metadata": {},
   "outputs": [],
   "source": [
    "# Load Dataset \n",
    "df = pd.read_csv('new cars.csv')"
   ]
  },
  {
   "cell_type": "markdown",
   "id": "9e1d70c0",
   "metadata": {},
   "source": [
    "------\n",
    "### Data Cleaning "
   ]
  },
  {
   "cell_type": "code",
   "execution_count": 184,
   "id": "49b52f0d",
   "metadata": {},
   "outputs": [
    {
     "data": {
      "text/html": [
       "<div>\n",
       "<style scoped>\n",
       "    .dataframe tbody tr th:only-of-type {\n",
       "        vertical-align: middle;\n",
       "    }\n",
       "\n",
       "    .dataframe tbody tr th {\n",
       "        vertical-align: top;\n",
       "    }\n",
       "\n",
       "    .dataframe thead th {\n",
       "        text-align: right;\n",
       "    }\n",
       "</style>\n",
       "<table border=\"1\" class=\"dataframe\">\n",
       "  <thead>\n",
       "    <tr style=\"text-align: right;\">\n",
       "      <th></th>\n",
       "      <th>car name</th>\n",
       "      <th>price</th>\n",
       "      <th>engine_capacity</th>\n",
       "      <th>cylinder</th>\n",
       "      <th>horse_power</th>\n",
       "      <th>top_speed</th>\n",
       "      <th>seats</th>\n",
       "      <th>brand</th>\n",
       "      <th>country</th>\n",
       "    </tr>\n",
       "  </thead>\n",
       "  <tbody>\n",
       "    <tr>\n",
       "      <th>0</th>\n",
       "      <td>Fiat 500e 2021 La Prima</td>\n",
       "      <td>TBD</td>\n",
       "      <td>0.0</td>\n",
       "      <td>N/A, Electric</td>\n",
       "      <td>Single</td>\n",
       "      <td>Automatic</td>\n",
       "      <td>150</td>\n",
       "      <td>fiat</td>\n",
       "      <td>ksa</td>\n",
       "    </tr>\n",
       "    <tr>\n",
       "      <th>1</th>\n",
       "      <td>Peugeot Traveller 2021 L3 VIP</td>\n",
       "      <td>SAR 140,575</td>\n",
       "      <td>2.0</td>\n",
       "      <td>4</td>\n",
       "      <td>180</td>\n",
       "      <td>8 Seater</td>\n",
       "      <td>8.8</td>\n",
       "      <td>peugeot</td>\n",
       "      <td>ksa</td>\n",
       "    </tr>\n",
       "    <tr>\n",
       "      <th>2</th>\n",
       "      <td>Suzuki Jimny 2021 1.5L Automatic</td>\n",
       "      <td>SAR 98,785</td>\n",
       "      <td>1.5</td>\n",
       "      <td>4</td>\n",
       "      <td>102</td>\n",
       "      <td>145</td>\n",
       "      <td>4 Seater</td>\n",
       "      <td>suzuki</td>\n",
       "      <td>ksa</td>\n",
       "    </tr>\n",
       "    <tr>\n",
       "      <th>3</th>\n",
       "      <td>Ford Bronco 2021 2.3T Big Bend</td>\n",
       "      <td>SAR 198,000</td>\n",
       "      <td>2.3</td>\n",
       "      <td>4</td>\n",
       "      <td>420</td>\n",
       "      <td>4 Seater</td>\n",
       "      <td>7.5</td>\n",
       "      <td>ford</td>\n",
       "      <td>ksa</td>\n",
       "    </tr>\n",
       "    <tr>\n",
       "      <th>4</th>\n",
       "      <td>Honda HR-V 2021 1.8 i-VTEC LX</td>\n",
       "      <td>Orangeburst Metallic</td>\n",
       "      <td>1.8</td>\n",
       "      <td>4</td>\n",
       "      <td>140</td>\n",
       "      <td>190</td>\n",
       "      <td>5 Seater</td>\n",
       "      <td>honda</td>\n",
       "      <td>ksa</td>\n",
       "    </tr>\n",
       "  </tbody>\n",
       "</table>\n",
       "</div>"
      ],
      "text/plain": [
       "                           car name                 price engine_capacity  \\\n",
       "0           Fiat 500e 2021 La Prima                   TBD             0.0   \n",
       "1     Peugeot Traveller 2021 L3 VIP           SAR 140,575             2.0   \n",
       "2  Suzuki Jimny 2021 1.5L Automatic            SAR 98,785             1.5   \n",
       "3    Ford Bronco 2021 2.3T Big Bend           SAR 198,000             2.3   \n",
       "4     Honda HR-V 2021 1.8 i-VTEC LX  Orangeburst Metallic             1.8   \n",
       "\n",
       "        cylinder horse_power  top_speed     seats    brand country  \n",
       "0  N/A, Electric      Single  Automatic       150     fiat     ksa  \n",
       "1              4         180   8 Seater       8.8  peugeot     ksa  \n",
       "2              4         102        145  4 Seater   suzuki     ksa  \n",
       "3              4         420   4 Seater       7.5     ford     ksa  \n",
       "4              4         140        190  5 Seater    honda     ksa  "
      ]
     },
     "execution_count": 184,
     "metadata": {},
     "output_type": "execute_result"
    }
   ],
   "source": [
    "# take alook \n",
    "df.head()"
   ]
  },
  {
   "cell_type": "code",
   "execution_count": 185,
   "id": "48fa4a3c",
   "metadata": {},
   "outputs": [
    {
     "data": {
      "text/html": [
       "<div>\n",
       "<style scoped>\n",
       "    .dataframe tbody tr th:only-of-type {\n",
       "        vertical-align: middle;\n",
       "    }\n",
       "\n",
       "    .dataframe tbody tr th {\n",
       "        vertical-align: top;\n",
       "    }\n",
       "\n",
       "    .dataframe thead th {\n",
       "        text-align: right;\n",
       "    }\n",
       "</style>\n",
       "<table border=\"1\" class=\"dataframe\">\n",
       "  <thead>\n",
       "    <tr style=\"text-align: right;\">\n",
       "      <th></th>\n",
       "      <th>car name</th>\n",
       "      <th>price</th>\n",
       "      <th>engine_capacity</th>\n",
       "      <th>cylinder</th>\n",
       "      <th>horse_power</th>\n",
       "      <th>top_speed</th>\n",
       "      <th>seats</th>\n",
       "      <th>brand</th>\n",
       "      <th>country</th>\n",
       "    </tr>\n",
       "  </thead>\n",
       "  <tbody>\n",
       "    <tr>\n",
       "      <th>3315</th>\n",
       "      <td>Renault Symbol 2021 1.6L PE</td>\n",
       "      <td>OMR 3,900</td>\n",
       "      <td>1.6</td>\n",
       "      <td>4</td>\n",
       "      <td>102</td>\n",
       "      <td>180</td>\n",
       "      <td>5 Seater</td>\n",
       "      <td>renault</td>\n",
       "      <td>oman</td>\n",
       "    </tr>\n",
       "    <tr>\n",
       "      <th>4135</th>\n",
       "      <td>Honda HR-V 2021 LX Black Edition</td>\n",
       "      <td>Orangeburst Metallic</td>\n",
       "      <td>1.8</td>\n",
       "      <td>4</td>\n",
       "      <td>141</td>\n",
       "      <td>190</td>\n",
       "      <td>5 Seater</td>\n",
       "      <td>honda</td>\n",
       "      <td>kuwait</td>\n",
       "    </tr>\n",
       "    <tr>\n",
       "      <th>130</th>\n",
       "      <td>Porsche Panamera Sport Turismo 2021 Turbo S E-...</td>\n",
       "      <td>SAR 995,060</td>\n",
       "      <td>4.0</td>\n",
       "      <td>8</td>\n",
       "      <td>680</td>\n",
       "      <td>310</td>\n",
       "      <td>5 Seater</td>\n",
       "      <td>porsche</td>\n",
       "      <td>ksa</td>\n",
       "    </tr>\n",
       "    <tr>\n",
       "      <th>1344</th>\n",
       "      <td>Aston Martin Vantage 2021 4.0T V8</td>\n",
       "      <td>EGP 4,750,000</td>\n",
       "      <td>4000</td>\n",
       "      <td>8</td>\n",
       "      <td>503</td>\n",
       "      <td>314</td>\n",
       "      <td>2 Seater</td>\n",
       "      <td>aston-martin</td>\n",
       "      <td>egypt</td>\n",
       "    </tr>\n",
       "    <tr>\n",
       "      <th>5136</th>\n",
       "      <td>Mercedes-Benz Maybach GLS 2021 600 4MATIC</td>\n",
       "      <td>TBD</td>\n",
       "      <td>4.0</td>\n",
       "      <td>8</td>\n",
       "      <td>558</td>\n",
       "      <td>250</td>\n",
       "      <td>4 Seater</td>\n",
       "      <td>mercedes-benz</td>\n",
       "      <td>uae</td>\n",
       "    </tr>\n",
       "    <tr>\n",
       "      <th>4138</th>\n",
       "      <td>Ford Bronco 2021 2.3T Big Bend</td>\n",
       "      <td>TBD</td>\n",
       "      <td>2.3</td>\n",
       "      <td>4</td>\n",
       "      <td>420</td>\n",
       "      <td>4 Seater</td>\n",
       "      <td>7.5</td>\n",
       "      <td>ford</td>\n",
       "      <td>kuwait</td>\n",
       "    </tr>\n",
       "    <tr>\n",
       "      <th>1225</th>\n",
       "      <td>Hyundai Accent 2021 (RB) 1.6L GL DAB (ABS)</td>\n",
       "      <td>EGP 237,900</td>\n",
       "      <td>1591</td>\n",
       "      <td>4</td>\n",
       "      <td>125</td>\n",
       "      <td>184</td>\n",
       "      <td>5 Seater</td>\n",
       "      <td>hyundai</td>\n",
       "      <td>egypt</td>\n",
       "    </tr>\n",
       "    <tr>\n",
       "      <th>6237</th>\n",
       "      <td>Nissan GT-R 2021 Nismo</td>\n",
       "      <td>AED 787,809</td>\n",
       "      <td>3.8</td>\n",
       "      <td>6</td>\n",
       "      <td>600</td>\n",
       "      <td>350</td>\n",
       "      <td>4 Seater</td>\n",
       "      <td>nissan</td>\n",
       "      <td>uae</td>\n",
       "    </tr>\n",
       "    <tr>\n",
       "      <th>2580</th>\n",
       "      <td>Isuzu D-MAX 2021 3.0L Crew Cab 4WD LS</td>\n",
       "      <td>QAR 97,500</td>\n",
       "      <td>3.0</td>\n",
       "      <td>4</td>\n",
       "      <td>190</td>\n",
       "      <td>170</td>\n",
       "      <td>5 Seater</td>\n",
       "      <td>isuzu</td>\n",
       "      <td>qatar</td>\n",
       "    </tr>\n",
       "    <tr>\n",
       "      <th>152</th>\n",
       "      <td>McLaren 570 GT 2021 3.8T Coupe</td>\n",
       "      <td>DISCONTINUED</td>\n",
       "      <td>3.8</td>\n",
       "      <td>8</td>\n",
       "      <td>562</td>\n",
       "      <td>328</td>\n",
       "      <td>2 Seater</td>\n",
       "      <td>mclaren</td>\n",
       "      <td>ksa</td>\n",
       "    </tr>\n",
       "    <tr>\n",
       "      <th>3305</th>\n",
       "      <td>Hyundai Ioniq 5 2022 EV 58 kWh</td>\n",
       "      <td>TBD</td>\n",
       "      <td>0.0</td>\n",
       "      <td>N/A, Electric</td>\n",
       "      <td>Single</td>\n",
       "      <td>185</td>\n",
       "      <td>5 Seater</td>\n",
       "      <td>hyundai</td>\n",
       "      <td>oman</td>\n",
       "    </tr>\n",
       "    <tr>\n",
       "      <th>188</th>\n",
       "      <td>Hyundai Veloster N 2021 2.0L T-GDI (sport)</td>\n",
       "      <td>TBD</td>\n",
       "      <td>2.0</td>\n",
       "      <td>4</td>\n",
       "      <td>275</td>\n",
       "      <td>5 Seater</td>\n",
       "      <td>5.2</td>\n",
       "      <td>hyundai</td>\n",
       "      <td>ksa</td>\n",
       "    </tr>\n",
       "    <tr>\n",
       "      <th>1742</th>\n",
       "      <td>Mini Hatch 2021 5-Door Cooper</td>\n",
       "      <td>BHD 13,400</td>\n",
       "      <td>1.5</td>\n",
       "      <td>3</td>\n",
       "      <td>136</td>\n",
       "      <td>207</td>\n",
       "      <td>5 Seater</td>\n",
       "      <td>mini</td>\n",
       "      <td>bahrain</td>\n",
       "    </tr>\n",
       "    <tr>\n",
       "      <th>388</th>\n",
       "      <td>Mitsubishi Outlander 2021 3.0L GLS (7-Seater) ...</td>\n",
       "      <td>SAR 104,100</td>\n",
       "      <td>3.0</td>\n",
       "      <td>6</td>\n",
       "      <td>227</td>\n",
       "      <td>205</td>\n",
       "      <td>7 Seater</td>\n",
       "      <td>mitsubishi</td>\n",
       "      <td>ksa</td>\n",
       "    </tr>\n",
       "    <tr>\n",
       "      <th>3549</th>\n",
       "      <td>Ford Explorer 2021 2.3L EcoBoost Limited AWD</td>\n",
       "      <td>OMR 19,000</td>\n",
       "      <td>2.3</td>\n",
       "      <td>4</td>\n",
       "      <td>300</td>\n",
       "      <td>180</td>\n",
       "      <td>7 Seater</td>\n",
       "      <td>ford</td>\n",
       "      <td>oman</td>\n",
       "    </tr>\n",
       "    <tr>\n",
       "      <th>4892</th>\n",
       "      <td>Maserati Levante 2021 3.0T V6</td>\n",
       "      <td>KWD 28,650</td>\n",
       "      <td>3.0</td>\n",
       "      <td>6</td>\n",
       "      <td>350</td>\n",
       "      <td>251</td>\n",
       "      <td>5 Seater</td>\n",
       "      <td>maserati</td>\n",
       "      <td>kuwait</td>\n",
       "    </tr>\n",
       "    <tr>\n",
       "      <th>3770</th>\n",
       "      <td>Mercedes-Benz C-Class Coupe 2021 C 300</td>\n",
       "      <td>OMR 21,460</td>\n",
       "      <td>2.0</td>\n",
       "      <td>NaN</td>\n",
       "      <td>258</td>\n",
       "      <td>250</td>\n",
       "      <td>4 Seater</td>\n",
       "      <td>mercedes-benz</td>\n",
       "      <td>oman</td>\n",
       "    </tr>\n",
       "    <tr>\n",
       "      <th>1596</th>\n",
       "      <td>Mitsubishi L200 2021 2.4L Double Cab GL (2WD)</td>\n",
       "      <td>BHD 6,600</td>\n",
       "      <td>2.4</td>\n",
       "      <td>4</td>\n",
       "      <td>128</td>\n",
       "      <td>169</td>\n",
       "      <td>6 Seater</td>\n",
       "      <td>mitsubishi</td>\n",
       "      <td>bahrain</td>\n",
       "    </tr>\n",
       "    <tr>\n",
       "      <th>2799</th>\n",
       "      <td>Audi A5 Coupe 2021 40 TFSI Design (190 HP)</td>\n",
       "      <td>QAR 186,000</td>\n",
       "      <td>2.0</td>\n",
       "      <td>4</td>\n",
       "      <td>190</td>\n",
       "      <td>240</td>\n",
       "      <td>4 Seater</td>\n",
       "      <td>audi</td>\n",
       "      <td>qatar</td>\n",
       "    </tr>\n",
       "    <tr>\n",
       "      <th>4136</th>\n",
       "      <td>Honda HR-V 2021 1.8 i-VTEC DX</td>\n",
       "      <td>KWD 4,888</td>\n",
       "      <td>1.8</td>\n",
       "      <td>4</td>\n",
       "      <td>140</td>\n",
       "      <td>190</td>\n",
       "      <td>5 Seater</td>\n",
       "      <td>honda</td>\n",
       "      <td>kuwait</td>\n",
       "    </tr>\n",
       "  </tbody>\n",
       "</table>\n",
       "</div>"
      ],
      "text/plain": [
       "                                               car name                 price  \\\n",
       "3315                        Renault Symbol 2021 1.6L PE             OMR 3,900   \n",
       "4135                   Honda HR-V 2021 LX Black Edition  Orangeburst Metallic   \n",
       "130   Porsche Panamera Sport Turismo 2021 Turbo S E-...           SAR 995,060   \n",
       "1344                  Aston Martin Vantage 2021 4.0T V8         EGP 4,750,000   \n",
       "5136          Mercedes-Benz Maybach GLS 2021 600 4MATIC                   TBD   \n",
       "4138                     Ford Bronco 2021 2.3T Big Bend                   TBD   \n",
       "1225         Hyundai Accent 2021 (RB) 1.6L GL DAB (ABS)           EGP 237,900   \n",
       "6237                             Nissan GT-R 2021 Nismo           AED 787,809   \n",
       "2580              Isuzu D-MAX 2021 3.0L Crew Cab 4WD LS            QAR 97,500   \n",
       "152                      McLaren 570 GT 2021 3.8T Coupe          DISCONTINUED   \n",
       "3305                     Hyundai Ioniq 5 2022 EV 58 kWh                   TBD   \n",
       "188          Hyundai Veloster N 2021 2.0L T-GDI (sport)                   TBD   \n",
       "1742                      Mini Hatch 2021 5-Door Cooper            BHD 13,400   \n",
       "388   Mitsubishi Outlander 2021 3.0L GLS (7-Seater) ...           SAR 104,100   \n",
       "3549       Ford Explorer 2021 2.3L EcoBoost Limited AWD            OMR 19,000   \n",
       "4892                      Maserati Levante 2021 3.0T V6            KWD 28,650   \n",
       "3770             Mercedes-Benz C-Class Coupe 2021 C 300            OMR 21,460   \n",
       "1596      Mitsubishi L200 2021 2.4L Double Cab GL (2WD)             BHD 6,600   \n",
       "2799         Audi A5 Coupe 2021 40 TFSI Design (190 HP)           QAR 186,000   \n",
       "4136                      Honda HR-V 2021 1.8 i-VTEC DX             KWD 4,888   \n",
       "\n",
       "     engine_capacity       cylinder horse_power top_speed     seats  \\\n",
       "3315             1.6              4         102       180  5 Seater   \n",
       "4135             1.8              4         141       190  5 Seater   \n",
       "130              4.0              8         680       310  5 Seater   \n",
       "1344            4000              8         503       314  2 Seater   \n",
       "5136             4.0              8         558       250  4 Seater   \n",
       "4138             2.3              4         420  4 Seater       7.5   \n",
       "1225            1591              4         125       184  5 Seater   \n",
       "6237             3.8              6         600       350  4 Seater   \n",
       "2580             3.0              4         190       170  5 Seater   \n",
       "152              3.8              8         562       328  2 Seater   \n",
       "3305             0.0  N/A, Electric      Single       185  5 Seater   \n",
       "188              2.0              4         275  5 Seater       5.2   \n",
       "1742             1.5              3         136       207  5 Seater   \n",
       "388              3.0              6         227       205  7 Seater   \n",
       "3549             2.3              4         300       180  7 Seater   \n",
       "4892             3.0              6         350       251  5 Seater   \n",
       "3770             2.0            NaN         258       250  4 Seater   \n",
       "1596             2.4              4         128       169  6 Seater   \n",
       "2799             2.0              4         190       240  4 Seater   \n",
       "4136             1.8              4         140       190  5 Seater   \n",
       "\n",
       "              brand  country  \n",
       "3315        renault     oman  \n",
       "4135          honda   kuwait  \n",
       "130         porsche      ksa  \n",
       "1344   aston-martin    egypt  \n",
       "5136  mercedes-benz      uae  \n",
       "4138           ford   kuwait  \n",
       "1225        hyundai    egypt  \n",
       "6237         nissan      uae  \n",
       "2580          isuzu    qatar  \n",
       "152         mclaren      ksa  \n",
       "3305        hyundai     oman  \n",
       "188         hyundai      ksa  \n",
       "1742           mini  bahrain  \n",
       "388      mitsubishi      ksa  \n",
       "3549           ford     oman  \n",
       "4892       maserati   kuwait  \n",
       "3770  mercedes-benz     oman  \n",
       "1596     mitsubishi  bahrain  \n",
       "2799           audi    qatar  \n",
       "4136          honda   kuwait  "
      ]
     },
     "execution_count": 185,
     "metadata": {},
     "output_type": "execute_result"
    }
   ],
   "source": [
    "df.sample(20)"
   ]
  },
  {
   "cell_type": "code",
   "execution_count": 186,
   "id": "e2d02861",
   "metadata": {},
   "outputs": [
    {
     "name": "stdout",
     "output_type": "stream",
     "text": [
      "<class 'pandas.core.frame.DataFrame'>\n",
      "RangeIndex: 6308 entries, 0 to 6307\n",
      "Data columns (total 9 columns):\n",
      " #   Column           Non-Null Count  Dtype \n",
      "---  ------           --------------  ----- \n",
      " 0   car name         6308 non-null   object\n",
      " 1   price            6308 non-null   object\n",
      " 2   engine_capacity  6308 non-null   object\n",
      " 3   cylinder         5684 non-null   object\n",
      " 4   horse_power      6308 non-null   object\n",
      " 5   top_speed        6308 non-null   object\n",
      " 6   seats            6308 non-null   object\n",
      " 7   brand            6308 non-null   object\n",
      " 8   country          6308 non-null   object\n",
      "dtypes: object(9)\n",
      "memory usage: 443.7+ KB\n"
     ]
    }
   ],
   "source": [
    "df.info()"
   ]
  },
  {
   "cell_type": "code",
   "execution_count": 187,
   "id": "6011d4a0",
   "metadata": {
    "scrolled": true
   },
   "outputs": [
    {
     "data": {
      "text/plain": [
       "car name           object\n",
       "price              object\n",
       "engine_capacity    object\n",
       "cylinder           object\n",
       "horse_power        object\n",
       "top_speed          object\n",
       "seats              object\n",
       "brand              object\n",
       "country            object\n",
       "dtype: object"
      ]
     },
     "execution_count": 187,
     "metadata": {},
     "output_type": "execute_result"
    }
   ],
   "source": [
    "df.dtypes"
   ]
  },
  {
   "cell_type": "code",
   "execution_count": 188,
   "id": "507464e4",
   "metadata": {},
   "outputs": [],
   "source": [
    "# convert column types\n",
    "df['cylinder']  = pd.to_numeric(df['cylinder'], errors='coerce')\n",
    "df['horse_power']  = pd.to_numeric(df['horse_power'], errors='coerce')\n",
    "df['top_speed']  = pd.to_numeric(df['top_speed'], errors='coerce')"
   ]
  },
  {
   "cell_type": "code",
   "execution_count": 189,
   "id": "a46bbdf1",
   "metadata": {},
   "outputs": [
    {
     "data": {
      "text/plain": [
       "car name             0\n",
       "price                0\n",
       "engine_capacity      0\n",
       "cylinder           734\n",
       "horse_power        122\n",
       "top_speed          433\n",
       "seats                0\n",
       "brand                0\n",
       "country              0\n",
       "dtype: int64"
      ]
     },
     "execution_count": 189,
     "metadata": {},
     "output_type": "execute_result"
    }
   ],
   "source": [
    "df.isnull().sum()"
   ]
  },
  {
   "cell_type": "code",
   "execution_count": 190,
   "id": "680ebf2a",
   "metadata": {},
   "outputs": [
    {
     "data": {
      "text/plain": [
       "(6308, 9)"
      ]
     },
     "execution_count": 190,
     "metadata": {},
     "output_type": "execute_result"
    }
   ],
   "source": [
    "df.shape"
   ]
  },
  {
   "cell_type": "code",
   "execution_count": 191,
   "id": "a4ec7099",
   "metadata": {},
   "outputs": [],
   "source": [
    "\n",
    "df['price'] = df.price.str.replace('SAR','')\n",
    "df['price'] = df.price.str.replace('AED','')\n",
    "df['price'] = df.price.str.replace('QAR','')\n",
    "df['price'] = df.price.str.replace('KWD','')\n",
    "df['price'] = df.price.str.replace('BHD','')\n",
    "df['price'] = df.price.str.replace('OMR','')\n",
    "df['price'] = df.price.str.replace('EGP','')\n",
    "df['price'] = df.price.str.replace(',','')\n",
    "df['engine_capacity'] = df.engine_capacity.str.replace('.','')\n",
    "df['seats'] = df.seats.str.replace('Seater','')\n",
    "df['seats'] = df.seats.str.replace('N A','')\n",
    "\n"
   ]
  },
  {
   "cell_type": "code",
   "execution_count": 192,
   "id": "1794bfa9",
   "metadata": {},
   "outputs": [
    {
     "data": {
      "text/html": [
       "<div>\n",
       "<style scoped>\n",
       "    .dataframe tbody tr th:only-of-type {\n",
       "        vertical-align: middle;\n",
       "    }\n",
       "\n",
       "    .dataframe tbody tr th {\n",
       "        vertical-align: top;\n",
       "    }\n",
       "\n",
       "    .dataframe thead th {\n",
       "        text-align: right;\n",
       "    }\n",
       "</style>\n",
       "<table border=\"1\" class=\"dataframe\">\n",
       "  <thead>\n",
       "    <tr style=\"text-align: right;\">\n",
       "      <th></th>\n",
       "      <th>car name</th>\n",
       "      <th>price</th>\n",
       "      <th>engine_capacity</th>\n",
       "      <th>cylinder</th>\n",
       "      <th>horse_power</th>\n",
       "      <th>top_speed</th>\n",
       "      <th>seats</th>\n",
       "      <th>brand</th>\n",
       "      <th>country</th>\n",
       "    </tr>\n",
       "  </thead>\n",
       "  <tbody>\n",
       "    <tr>\n",
       "      <th>5938</th>\n",
       "      <td>Mercedes-Benz A 45 AMG 2021 2.0T 4MATIC</td>\n",
       "      <td>249900</td>\n",
       "      <td>20</td>\n",
       "      <td>4.0</td>\n",
       "      <td>381.0</td>\n",
       "      <td>250.0</td>\n",
       "      <td>5</td>\n",
       "      <td>mercedes-benz</td>\n",
       "      <td>uae</td>\n",
       "    </tr>\n",
       "    <tr>\n",
       "      <th>5279</th>\n",
       "      <td>Opel Crossland X 2021 1.2T Enjoy</td>\n",
       "      <td>TBD</td>\n",
       "      <td>12</td>\n",
       "      <td>3.0</td>\n",
       "      <td>110.0</td>\n",
       "      <td>187.0</td>\n",
       "      <td>5</td>\n",
       "      <td>opel</td>\n",
       "      <td>uae</td>\n",
       "    </tr>\n",
       "    <tr>\n",
       "      <th>3617</th>\n",
       "      <td>Mercedes-Benz C-Class 2021 C 200</td>\n",
       "      <td>15700</td>\n",
       "      <td>20</td>\n",
       "      <td>NaN</td>\n",
       "      <td>204.0</td>\n",
       "      <td>245.0</td>\n",
       "      <td>5</td>\n",
       "      <td>mercedes-benz</td>\n",
       "      <td>oman</td>\n",
       "    </tr>\n",
       "    <tr>\n",
       "      <th>671</th>\n",
       "      <td>Dodge Charger 2021 5.7L R/T Premium</td>\n",
       "      <td>181335</td>\n",
       "      <td>57</td>\n",
       "      <td>8.0</td>\n",
       "      <td>370.0</td>\n",
       "      <td>250.0</td>\n",
       "      <td>5</td>\n",
       "      <td>dodge</td>\n",
       "      <td>ksa</td>\n",
       "    </tr>\n",
       "    <tr>\n",
       "      <th>4877</th>\n",
       "      <td>Audi Q7 2021 45 TFSI Design quattro (333 HP)</td>\n",
       "      <td>26500</td>\n",
       "      <td>30</td>\n",
       "      <td>6.0</td>\n",
       "      <td>333.0</td>\n",
       "      <td>250.0</td>\n",
       "      <td>5</td>\n",
       "      <td>audi</td>\n",
       "      <td>kuwait</td>\n",
       "    </tr>\n",
       "    <tr>\n",
       "      <th>4756</th>\n",
       "      <td>Mercedes-Benz E-Class Cabriolet 2021 E 200</td>\n",
       "      <td>17800</td>\n",
       "      <td>20</td>\n",
       "      <td>4.0</td>\n",
       "      <td>184.0</td>\n",
       "      <td>235.0</td>\n",
       "      <td>4</td>\n",
       "      <td>mercedes-benz</td>\n",
       "      <td>kuwait</td>\n",
       "    </tr>\n",
       "    <tr>\n",
       "      <th>4659</th>\n",
       "      <td>Mercedes-Benz SLC 2021 200</td>\n",
       "      <td>14800</td>\n",
       "      <td>20</td>\n",
       "      <td>NaN</td>\n",
       "      <td>184.0</td>\n",
       "      <td>237.0</td>\n",
       "      <td>2</td>\n",
       "      <td>mercedes-benz</td>\n",
       "      <td>kuwait</td>\n",
       "    </tr>\n",
       "    <tr>\n",
       "      <th>212</th>\n",
       "      <td>Hongqi HS5 2021 2.0T Premium (AWD)</td>\n",
       "      <td>163900</td>\n",
       "      <td>20</td>\n",
       "      <td>4.0</td>\n",
       "      <td>224.0</td>\n",
       "      <td>210.0</td>\n",
       "      <td>5</td>\n",
       "      <td>hongqi</td>\n",
       "      <td>ksa</td>\n",
       "    </tr>\n",
       "    <tr>\n",
       "      <th>1333</th>\n",
       "      <td>BMW X4 2021 xDrive 30i</td>\n",
       "      <td>1500000</td>\n",
       "      <td>1997</td>\n",
       "      <td>4.0</td>\n",
       "      <td>252.0</td>\n",
       "      <td>240.0</td>\n",
       "      <td>5</td>\n",
       "      <td>bmw</td>\n",
       "      <td>egypt</td>\n",
       "    </tr>\n",
       "    <tr>\n",
       "      <th>1289</th>\n",
       "      <td>Subaru XV 2021 1.6L Luxury</td>\n",
       "      <td>504900</td>\n",
       "      <td>2000</td>\n",
       "      <td>4.0</td>\n",
       "      <td>114.0</td>\n",
       "      <td>175.0</td>\n",
       "      <td>5</td>\n",
       "      <td>subaru</td>\n",
       "      <td>egypt</td>\n",
       "    </tr>\n",
       "    <tr>\n",
       "      <th>5616</th>\n",
       "      <td>Toyota Hilux 2021 4.0L Adventure (4x4)</td>\n",
       "      <td>143000</td>\n",
       "      <td>40</td>\n",
       "      <td>6.0</td>\n",
       "      <td>235.0</td>\n",
       "      <td>170.0</td>\n",
       "      <td>5</td>\n",
       "      <td>toyota</td>\n",
       "      <td>uae</td>\n",
       "    </tr>\n",
       "    <tr>\n",
       "      <th>5922</th>\n",
       "      <td>GMC Sierra Denali 2021 6.2L Crew Cab (AWD)</td>\n",
       "      <td>248400</td>\n",
       "      <td>62</td>\n",
       "      <td>8.0</td>\n",
       "      <td>420.0</td>\n",
       "      <td>180.0</td>\n",
       "      <td>5</td>\n",
       "      <td>gmc</td>\n",
       "      <td>uae</td>\n",
       "    </tr>\n",
       "    <tr>\n",
       "      <th>5376</th>\n",
       "      <td>Nissan X-Trail 2021 S 2WD (7-Seater)</td>\n",
       "      <td>85500</td>\n",
       "      <td>25</td>\n",
       "      <td>4.0</td>\n",
       "      <td>169.0</td>\n",
       "      <td>170.0</td>\n",
       "      <td>7</td>\n",
       "      <td>nissan</td>\n",
       "      <td>uae</td>\n",
       "    </tr>\n",
       "    <tr>\n",
       "      <th>4085</th>\n",
       "      <td>McLaren 570 GT 2021 3.8T Coupe</td>\n",
       "      <td>79000</td>\n",
       "      <td>38</td>\n",
       "      <td>8.0</td>\n",
       "      <td>562.0</td>\n",
       "      <td>328.0</td>\n",
       "      <td>2</td>\n",
       "      <td>mclaren</td>\n",
       "      <td>oman</td>\n",
       "    </tr>\n",
       "    <tr>\n",
       "      <th>675</th>\n",
       "      <td>Jeep Grand Cherokee 2021 3.6L Summit</td>\n",
       "      <td>242739</td>\n",
       "      <td>36</td>\n",
       "      <td>6.0</td>\n",
       "      <td>290.0</td>\n",
       "      <td>190.0</td>\n",
       "      <td>5</td>\n",
       "      <td>jeep</td>\n",
       "      <td>ksa</td>\n",
       "    </tr>\n",
       "    <tr>\n",
       "      <th>2858</th>\n",
       "      <td>Porsche 718 2021 Cayman</td>\n",
       "      <td>223300</td>\n",
       "      <td>20</td>\n",
       "      <td>4.0</td>\n",
       "      <td>300.0</td>\n",
       "      <td>275.0</td>\n",
       "      <td>2</td>\n",
       "      <td>porsche</td>\n",
       "      <td>qatar</td>\n",
       "    </tr>\n",
       "    <tr>\n",
       "      <th>2786</th>\n",
       "      <td>Jaguar XF 2021 2.0T Portfolio (250 PS)</td>\n",
       "      <td>230900</td>\n",
       "      <td>20</td>\n",
       "      <td>4.0</td>\n",
       "      <td>247.0</td>\n",
       "      <td>244.0</td>\n",
       "      <td>5</td>\n",
       "      <td>jaguar</td>\n",
       "      <td>qatar</td>\n",
       "    </tr>\n",
       "    <tr>\n",
       "      <th>5982</th>\n",
       "      <td>Alfa Romeo 4C 2021 Coupe</td>\n",
       "      <td>DISCONTINUED</td>\n",
       "      <td>18</td>\n",
       "      <td>4.0</td>\n",
       "      <td>240.0</td>\n",
       "      <td>258.0</td>\n",
       "      <td>2</td>\n",
       "      <td>alfa-romeo</td>\n",
       "      <td>uae</td>\n",
       "    </tr>\n",
       "    <tr>\n",
       "      <th>905</th>\n",
       "      <td>Mercedes-Benz Maybach GLS 2021 600 4MATIC</td>\n",
       "      <td>TBD</td>\n",
       "      <td>40</td>\n",
       "      <td>8.0</td>\n",
       "      <td>558.0</td>\n",
       "      <td>250.0</td>\n",
       "      <td>4</td>\n",
       "      <td>mercedes-benz</td>\n",
       "      <td>ksa</td>\n",
       "    </tr>\n",
       "    <tr>\n",
       "      <th>5448</th>\n",
       "      <td>Toyota Innova 2021 2.7L SE</td>\n",
       "      <td>99650</td>\n",
       "      <td>27</td>\n",
       "      <td>4.0</td>\n",
       "      <td>164.0</td>\n",
       "      <td>170.0</td>\n",
       "      <td>8</td>\n",
       "      <td>toyota</td>\n",
       "      <td>uae</td>\n",
       "    </tr>\n",
       "  </tbody>\n",
       "</table>\n",
       "</div>"
      ],
      "text/plain": [
       "                                          car name         price  \\\n",
       "5938       Mercedes-Benz A 45 AMG 2021 2.0T 4MATIC        249900   \n",
       "5279              Opel Crossland X 2021 1.2T Enjoy           TBD   \n",
       "3617              Mercedes-Benz C-Class 2021 C 200         15700   \n",
       "671            Dodge Charger 2021 5.7L R/T Premium        181335   \n",
       "4877  Audi Q7 2021 45 TFSI Design quattro (333 HP)         26500   \n",
       "4756    Mercedes-Benz E-Class Cabriolet 2021 E 200         17800   \n",
       "4659                    Mercedes-Benz SLC 2021 200         14800   \n",
       "212             Hongqi HS5 2021 2.0T Premium (AWD)        163900   \n",
       "1333                        BMW X4 2021 xDrive 30i       1500000   \n",
       "1289                    Subaru XV 2021 1.6L Luxury        504900   \n",
       "5616        Toyota Hilux 2021 4.0L Adventure (4x4)        143000   \n",
       "5922    GMC Sierra Denali 2021 6.2L Crew Cab (AWD)        248400   \n",
       "5376          Nissan X-Trail 2021 S 2WD (7-Seater)         85500   \n",
       "4085                McLaren 570 GT 2021 3.8T Coupe         79000   \n",
       "675           Jeep Grand Cherokee 2021 3.6L Summit        242739   \n",
       "2858                       Porsche 718 2021 Cayman        223300   \n",
       "2786        Jaguar XF 2021 2.0T Portfolio (250 PS)        230900   \n",
       "5982                      Alfa Romeo 4C 2021 Coupe  DISCONTINUED   \n",
       "905      Mercedes-Benz Maybach GLS 2021 600 4MATIC           TBD   \n",
       "5448                    Toyota Innova 2021 2.7L SE         99650   \n",
       "\n",
       "     engine_capacity  cylinder  horse_power  top_speed seats          brand  \\\n",
       "5938              20       4.0        381.0      250.0    5   mercedes-benz   \n",
       "5279              12       3.0        110.0      187.0    5            opel   \n",
       "3617              20       NaN        204.0      245.0    5   mercedes-benz   \n",
       "671               57       8.0        370.0      250.0    5           dodge   \n",
       "4877              30       6.0        333.0      250.0    5            audi   \n",
       "4756              20       4.0        184.0      235.0    4   mercedes-benz   \n",
       "4659              20       NaN        184.0      237.0    2   mercedes-benz   \n",
       "212               20       4.0        224.0      210.0    5          hongqi   \n",
       "1333            1997       4.0        252.0      240.0    5             bmw   \n",
       "1289            2000       4.0        114.0      175.0    5          subaru   \n",
       "5616              40       6.0        235.0      170.0    5          toyota   \n",
       "5922              62       8.0        420.0      180.0    5             gmc   \n",
       "5376              25       4.0        169.0      170.0    7          nissan   \n",
       "4085              38       8.0        562.0      328.0    2         mclaren   \n",
       "675               36       6.0        290.0      190.0    5            jeep   \n",
       "2858              20       4.0        300.0      275.0    2         porsche   \n",
       "2786              20       4.0        247.0      244.0    5          jaguar   \n",
       "5982              18       4.0        240.0      258.0    2      alfa-romeo   \n",
       "905               40       8.0        558.0      250.0    4   mercedes-benz   \n",
       "5448              27       4.0        164.0      170.0    8          toyota   \n",
       "\n",
       "     country  \n",
       "5938     uae  \n",
       "5279     uae  \n",
       "3617    oman  \n",
       "671      ksa  \n",
       "4877  kuwait  \n",
       "4756  kuwait  \n",
       "4659  kuwait  \n",
       "212      ksa  \n",
       "1333   egypt  \n",
       "1289   egypt  \n",
       "5616     uae  \n",
       "5922     uae  \n",
       "5376     uae  \n",
       "4085    oman  \n",
       "675      ksa  \n",
       "2858   qatar  \n",
       "2786   qatar  \n",
       "5982     uae  \n",
       "905      ksa  \n",
       "5448     uae  "
      ]
     },
     "execution_count": 192,
     "metadata": {},
     "output_type": "execute_result"
    }
   ],
   "source": [
    "df.sample(20)"
   ]
  },
  {
   "cell_type": "code",
   "execution_count": 193,
   "id": "67d7a9cc",
   "metadata": {},
   "outputs": [
    {
     "data": {
      "text/plain": [
       "car name            object\n",
       "price               object\n",
       "engine_capacity     object\n",
       "cylinder           float64\n",
       "horse_power        float64\n",
       "top_speed          float64\n",
       "seats               object\n",
       "brand               object\n",
       "country             object\n",
       "dtype: object"
      ]
     },
     "execution_count": 193,
     "metadata": {},
     "output_type": "execute_result"
    }
   ],
   "source": [
    "df.dtypes"
   ]
  },
  {
   "cell_type": "code",
   "execution_count": 194,
   "id": "5c7b706e",
   "metadata": {},
   "outputs": [],
   "source": [
    "df['price']  = pd.to_numeric(df['price'], errors='coerce')\n",
    "df['seats']  = pd.to_numeric(df['seats'], errors='coerce')\n",
    "df['engine_capacity']  = pd.to_numeric(df['engine_capacity'], errors='coerce')"
   ]
  },
  {
   "cell_type": "code",
   "execution_count": 195,
   "id": "3cb44e08",
   "metadata": {},
   "outputs": [
    {
     "data": {
      "text/html": [
       "<div>\n",
       "<style scoped>\n",
       "    .dataframe tbody tr th:only-of-type {\n",
       "        vertical-align: middle;\n",
       "    }\n",
       "\n",
       "    .dataframe tbody tr th {\n",
       "        vertical-align: top;\n",
       "    }\n",
       "\n",
       "    .dataframe thead th {\n",
       "        text-align: right;\n",
       "    }\n",
       "</style>\n",
       "<table border=\"1\" class=\"dataframe\">\n",
       "  <thead>\n",
       "    <tr style=\"text-align: right;\">\n",
       "      <th></th>\n",
       "      <th>car name</th>\n",
       "      <th>price</th>\n",
       "      <th>engine_capacity</th>\n",
       "      <th>cylinder</th>\n",
       "      <th>horse_power</th>\n",
       "      <th>top_speed</th>\n",
       "      <th>seats</th>\n",
       "      <th>brand</th>\n",
       "      <th>country</th>\n",
       "    </tr>\n",
       "  </thead>\n",
       "  <tbody>\n",
       "    <tr>\n",
       "      <th>5465</th>\n",
       "      <td>Changan CS95 2022 2.0T Royal (7-Seater) AWD</td>\n",
       "      <td>130000.0</td>\n",
       "      <td>20.0</td>\n",
       "      <td>4.0</td>\n",
       "      <td>233.0</td>\n",
       "      <td>190.0</td>\n",
       "      <td>7.0</td>\n",
       "      <td>changan</td>\n",
       "      <td>uae</td>\n",
       "    </tr>\n",
       "    <tr>\n",
       "      <th>2856</th>\n",
       "      <td>Audi A5 Sportback 2021 45 TFSI Design quattro ...</td>\n",
       "      <td>209000.0</td>\n",
       "      <td>20.0</td>\n",
       "      <td>4.0</td>\n",
       "      <td>252.0</td>\n",
       "      <td>250.0</td>\n",
       "      <td>5.0</td>\n",
       "      <td>audi</td>\n",
       "      <td>qatar</td>\n",
       "    </tr>\n",
       "    <tr>\n",
       "      <th>1175</th>\n",
       "      <td>Hyundai i20 2021 1.4L Spirit</td>\n",
       "      <td>267000.0</td>\n",
       "      <td>1396.0</td>\n",
       "      <td>4.0</td>\n",
       "      <td>98.0</td>\n",
       "      <td>180.0</td>\n",
       "      <td>5.0</td>\n",
       "      <td>hyundai</td>\n",
       "      <td>egypt</td>\n",
       "    </tr>\n",
       "    <tr>\n",
       "      <th>4854</th>\n",
       "      <td>Porsche Cayenne 2021 E-Hybrid</td>\n",
       "      <td>NaN</td>\n",
       "      <td>30.0</td>\n",
       "      <td>6.0</td>\n",
       "      <td>462.0</td>\n",
       "      <td>253.0</td>\n",
       "      <td>5.0</td>\n",
       "      <td>porsche</td>\n",
       "      <td>kuwait</td>\n",
       "    </tr>\n",
       "    <tr>\n",
       "      <th>5550</th>\n",
       "      <td>Abarth 695 2021 1.4T Rivale (Hard-Top)</td>\n",
       "      <td>120000.0</td>\n",
       "      <td>14.0</td>\n",
       "      <td>4.0</td>\n",
       "      <td>180.0</td>\n",
       "      <td>225.0</td>\n",
       "      <td>4.0</td>\n",
       "      <td>abarth</td>\n",
       "      <td>uae</td>\n",
       "    </tr>\n",
       "    <tr>\n",
       "      <th>4907</th>\n",
       "      <td>Audi RS5 Cabriolet 2021 4.2 (450 HP)</td>\n",
       "      <td>29000.0</td>\n",
       "      <td>42.0</td>\n",
       "      <td>8.0</td>\n",
       "      <td>450.0</td>\n",
       "      <td>250.0</td>\n",
       "      <td>4.0</td>\n",
       "      <td>audi</td>\n",
       "      <td>kuwait</td>\n",
       "    </tr>\n",
       "    <tr>\n",
       "      <th>5608</th>\n",
       "      <td>Peugeot Traveller 2021 L3 VIP</td>\n",
       "      <td>139900.0</td>\n",
       "      <td>20.0</td>\n",
       "      <td>4.0</td>\n",
       "      <td>180.0</td>\n",
       "      <td>NaN</td>\n",
       "      <td>8.8</td>\n",
       "      <td>peugeot</td>\n",
       "      <td>uae</td>\n",
       "    </tr>\n",
       "    <tr>\n",
       "      <th>4304</th>\n",
       "      <td>Skoda Octavia A8 2021 1.4 TSI Ambition</td>\n",
       "      <td>6100.0</td>\n",
       "      <td>14.0</td>\n",
       "      <td>4.0</td>\n",
       "      <td>150.0</td>\n",
       "      <td>220.0</td>\n",
       "      <td>5.0</td>\n",
       "      <td>skoda</td>\n",
       "      <td>kuwait</td>\n",
       "    </tr>\n",
       "    <tr>\n",
       "      <th>1698</th>\n",
       "      <td>Kia Cadenza 2021 3.3L GDi Top</td>\n",
       "      <td>NaN</td>\n",
       "      <td>33.0</td>\n",
       "      <td>6.0</td>\n",
       "      <td>284.0</td>\n",
       "      <td>235.0</td>\n",
       "      <td>5.0</td>\n",
       "      <td>kia</td>\n",
       "      <td>bahrain</td>\n",
       "    </tr>\n",
       "    <tr>\n",
       "      <th>1926</th>\n",
       "      <td>Audi A3 Sedan 2021 RS3 (400 HP)</td>\n",
       "      <td>11900.0</td>\n",
       "      <td>25.0</td>\n",
       "      <td>5.0</td>\n",
       "      <td>394.0</td>\n",
       "      <td>280.0</td>\n",
       "      <td>5.0</td>\n",
       "      <td>audi</td>\n",
       "      <td>bahrain</td>\n",
       "    </tr>\n",
       "    <tr>\n",
       "      <th>5050</th>\n",
       "      <td>McLaren 720S 2021 4.0T Spider</td>\n",
       "      <td>125000.0</td>\n",
       "      <td>40.0</td>\n",
       "      <td>8.0</td>\n",
       "      <td>770.0</td>\n",
       "      <td>NaN</td>\n",
       "      <td>2.9</td>\n",
       "      <td>mclaren</td>\n",
       "      <td>kuwait</td>\n",
       "    </tr>\n",
       "    <tr>\n",
       "      <th>4846</th>\n",
       "      <td>Jaguar F-Type Coupe 2021 2.0T (300 PS)</td>\n",
       "      <td>21000.0</td>\n",
       "      <td>20.0</td>\n",
       "      <td>4.0</td>\n",
       "      <td>300.0</td>\n",
       "      <td>250.0</td>\n",
       "      <td>2.0</td>\n",
       "      <td>jaguar</td>\n",
       "      <td>kuwait</td>\n",
       "    </tr>\n",
       "    <tr>\n",
       "      <th>2879</th>\n",
       "      <td>Mercedes-Benz C-Class 2021 C 400 4MATIC</td>\n",
       "      <td>216000.0</td>\n",
       "      <td>30.0</td>\n",
       "      <td>6.0</td>\n",
       "      <td>333.0</td>\n",
       "      <td>250.0</td>\n",
       "      <td>5.0</td>\n",
       "      <td>mercedes-benz</td>\n",
       "      <td>qatar</td>\n",
       "    </tr>\n",
       "    <tr>\n",
       "      <th>2919</th>\n",
       "      <td>Chevrolet Silverado 2021 6.2L V8 High Country</td>\n",
       "      <td>212800.0</td>\n",
       "      <td>62.0</td>\n",
       "      <td>8.0</td>\n",
       "      <td>420.0</td>\n",
       "      <td>200.0</td>\n",
       "      <td>5.0</td>\n",
       "      <td>chevrolet</td>\n",
       "      <td>qatar</td>\n",
       "    </tr>\n",
       "    <tr>\n",
       "      <th>3030</th>\n",
       "      <td>Volvo XC90 2021 2.0T T6 AWD R Design</td>\n",
       "      <td>294900.0</td>\n",
       "      <td>20.0</td>\n",
       "      <td>4.0</td>\n",
       "      <td>320.0</td>\n",
       "      <td>240.0</td>\n",
       "      <td>7.0</td>\n",
       "      <td>volvo</td>\n",
       "      <td>qatar</td>\n",
       "    </tr>\n",
       "  </tbody>\n",
       "</table>\n",
       "</div>"
      ],
      "text/plain": [
       "                                               car name     price  \\\n",
       "5465        Changan CS95 2022 2.0T Royal (7-Seater) AWD  130000.0   \n",
       "2856  Audi A5 Sportback 2021 45 TFSI Design quattro ...  209000.0   \n",
       "1175                       Hyundai i20 2021 1.4L Spirit  267000.0   \n",
       "4854                      Porsche Cayenne 2021 E-Hybrid       NaN   \n",
       "5550             Abarth 695 2021 1.4T Rivale (Hard-Top)  120000.0   \n",
       "4907               Audi RS5 Cabriolet 2021 4.2 (450 HP)   29000.0   \n",
       "5608                      Peugeot Traveller 2021 L3 VIP  139900.0   \n",
       "4304             Skoda Octavia A8 2021 1.4 TSI Ambition    6100.0   \n",
       "1698                      Kia Cadenza 2021 3.3L GDi Top       NaN   \n",
       "1926                    Audi A3 Sedan 2021 RS3 (400 HP)   11900.0   \n",
       "5050                      McLaren 720S 2021 4.0T Spider  125000.0   \n",
       "4846             Jaguar F-Type Coupe 2021 2.0T (300 PS)   21000.0   \n",
       "2879            Mercedes-Benz C-Class 2021 C 400 4MATIC  216000.0   \n",
       "2919      Chevrolet Silverado 2021 6.2L V8 High Country  212800.0   \n",
       "3030               Volvo XC90 2021 2.0T T6 AWD R Design  294900.0   \n",
       "\n",
       "      engine_capacity  cylinder  horse_power  top_speed  seats          brand  \\\n",
       "5465             20.0       4.0        233.0      190.0    7.0        changan   \n",
       "2856             20.0       4.0        252.0      250.0    5.0           audi   \n",
       "1175           1396.0       4.0         98.0      180.0    5.0        hyundai   \n",
       "4854             30.0       6.0        462.0      253.0    5.0        porsche   \n",
       "5550             14.0       4.0        180.0      225.0    4.0         abarth   \n",
       "4907             42.0       8.0        450.0      250.0    4.0           audi   \n",
       "5608             20.0       4.0        180.0        NaN    8.8        peugeot   \n",
       "4304             14.0       4.0        150.0      220.0    5.0          skoda   \n",
       "1698             33.0       6.0        284.0      235.0    5.0            kia   \n",
       "1926             25.0       5.0        394.0      280.0    5.0           audi   \n",
       "5050             40.0       8.0        770.0        NaN    2.9        mclaren   \n",
       "4846             20.0       4.0        300.0      250.0    2.0         jaguar   \n",
       "2879             30.0       6.0        333.0      250.0    5.0  mercedes-benz   \n",
       "2919             62.0       8.0        420.0      200.0    5.0      chevrolet   \n",
       "3030             20.0       4.0        320.0      240.0    7.0          volvo   \n",
       "\n",
       "      country  \n",
       "5465      uae  \n",
       "2856    qatar  \n",
       "1175    egypt  \n",
       "4854   kuwait  \n",
       "5550      uae  \n",
       "4907   kuwait  \n",
       "5608      uae  \n",
       "4304   kuwait  \n",
       "1698  bahrain  \n",
       "1926  bahrain  \n",
       "5050   kuwait  \n",
       "4846   kuwait  \n",
       "2879    qatar  \n",
       "2919    qatar  \n",
       "3030    qatar  "
      ]
     },
     "execution_count": 195,
     "metadata": {},
     "output_type": "execute_result"
    }
   ],
   "source": [
    "df.sample(15)"
   ]
  },
  {
   "cell_type": "code",
   "execution_count": 196,
   "id": "c6a651c1",
   "metadata": {},
   "outputs": [
    {
     "data": {
      "text/plain": [
       "car name            object\n",
       "price              float64\n",
       "engine_capacity    float64\n",
       "cylinder           float64\n",
       "horse_power        float64\n",
       "top_speed          float64\n",
       "seats              float64\n",
       "brand               object\n",
       "country             object\n",
       "dtype: object"
      ]
     },
     "execution_count": 196,
     "metadata": {},
     "output_type": "execute_result"
    }
   ],
   "source": [
    "df.dtypes"
   ]
  },
  {
   "cell_type": "code",
   "execution_count": 197,
   "id": "0919333f",
   "metadata": {},
   "outputs": [
    {
     "data": {
      "text/plain": [
       "car name              0\n",
       "price              1329\n",
       "engine_capacity       3\n",
       "cylinder            734\n",
       "horse_power         122\n",
       "top_speed           433\n",
       "seats               116\n",
       "brand                 0\n",
       "country               0\n",
       "dtype: int64"
      ]
     },
     "execution_count": 197,
     "metadata": {},
     "output_type": "execute_result"
    }
   ],
   "source": [
    "df.isnull().sum()"
   ]
  },
  {
   "cell_type": "code",
   "execution_count": 198,
   "id": "ecc03589",
   "metadata": {},
   "outputs": [],
   "source": [
    "df['price'].fillna(df['price'].mean(), inplace=True)\n",
    "df['cylinder'].fillna(df['cylinder'].mode()[0], inplace=True)\n",
    "df['horse_power'].fillna(df['horse_power'].mode()[0], inplace=True)\n",
    "df['top_speed'].fillna(df['top_speed'].mode()[0], inplace=True)\n",
    "df['seats'].fillna(df['seats'].mode()[0], inplace=True)"
   ]
  },
  {
   "cell_type": "code",
   "execution_count": 199,
   "id": "aba41dc5",
   "metadata": {},
   "outputs": [
    {
     "data": {
      "text/html": [
       "<div>\n",
       "<style scoped>\n",
       "    .dataframe tbody tr th:only-of-type {\n",
       "        vertical-align: middle;\n",
       "    }\n",
       "\n",
       "    .dataframe tbody tr th {\n",
       "        vertical-align: top;\n",
       "    }\n",
       "\n",
       "    .dataframe thead th {\n",
       "        text-align: right;\n",
       "    }\n",
       "</style>\n",
       "<table border=\"1\" class=\"dataframe\">\n",
       "  <thead>\n",
       "    <tr style=\"text-align: right;\">\n",
       "      <th></th>\n",
       "      <th>car name</th>\n",
       "      <th>price</th>\n",
       "      <th>engine_capacity</th>\n",
       "      <th>cylinder</th>\n",
       "      <th>horse_power</th>\n",
       "      <th>top_speed</th>\n",
       "      <th>seats</th>\n",
       "      <th>brand</th>\n",
       "      <th>country</th>\n",
       "    </tr>\n",
       "  </thead>\n",
       "  <tbody>\n",
       "    <tr>\n",
       "      <th>0</th>\n",
       "      <td>Fiat 500e 2021 La Prima</td>\n",
       "      <td>200455.127134</td>\n",
       "      <td>0.0</td>\n",
       "      <td>4.0</td>\n",
       "      <td>150.0</td>\n",
       "      <td>250.0</td>\n",
       "      <td>150.0</td>\n",
       "      <td>fiat</td>\n",
       "      <td>ksa</td>\n",
       "    </tr>\n",
       "    <tr>\n",
       "      <th>1</th>\n",
       "      <td>Peugeot Traveller 2021 L3 VIP</td>\n",
       "      <td>140575.000000</td>\n",
       "      <td>20.0</td>\n",
       "      <td>4.0</td>\n",
       "      <td>180.0</td>\n",
       "      <td>250.0</td>\n",
       "      <td>8.8</td>\n",
       "      <td>peugeot</td>\n",
       "      <td>ksa</td>\n",
       "    </tr>\n",
       "    <tr>\n",
       "      <th>2</th>\n",
       "      <td>Suzuki Jimny 2021 1.5L Automatic</td>\n",
       "      <td>98785.000000</td>\n",
       "      <td>15.0</td>\n",
       "      <td>4.0</td>\n",
       "      <td>102.0</td>\n",
       "      <td>145.0</td>\n",
       "      <td>4.0</td>\n",
       "      <td>suzuki</td>\n",
       "      <td>ksa</td>\n",
       "    </tr>\n",
       "    <tr>\n",
       "      <th>3</th>\n",
       "      <td>Ford Bronco 2021 2.3T Big Bend</td>\n",
       "      <td>198000.000000</td>\n",
       "      <td>23.0</td>\n",
       "      <td>4.0</td>\n",
       "      <td>420.0</td>\n",
       "      <td>250.0</td>\n",
       "      <td>7.5</td>\n",
       "      <td>ford</td>\n",
       "      <td>ksa</td>\n",
       "    </tr>\n",
       "    <tr>\n",
       "      <th>4</th>\n",
       "      <td>Honda HR-V 2021 1.8 i-VTEC LX</td>\n",
       "      <td>200455.127134</td>\n",
       "      <td>18.0</td>\n",
       "      <td>4.0</td>\n",
       "      <td>140.0</td>\n",
       "      <td>190.0</td>\n",
       "      <td>5.0</td>\n",
       "      <td>honda</td>\n",
       "      <td>ksa</td>\n",
       "    </tr>\n",
       "    <tr>\n",
       "      <th>5</th>\n",
       "      <td>Honda HR-V 2021 1.8 i-VTEC EX</td>\n",
       "      <td>95335.000000</td>\n",
       "      <td>18.0</td>\n",
       "      <td>4.0</td>\n",
       "      <td>140.0</td>\n",
       "      <td>190.0</td>\n",
       "      <td>5.0</td>\n",
       "      <td>honda</td>\n",
       "      <td>ksa</td>\n",
       "    </tr>\n",
       "    <tr>\n",
       "      <th>6</th>\n",
       "      <td>Peugeot Expert 2021 Van L3 A/T</td>\n",
       "      <td>82845.000000</td>\n",
       "      <td>20.0</td>\n",
       "      <td>4.0</td>\n",
       "      <td>120.0</td>\n",
       "      <td>170.0</td>\n",
       "      <td>5.0</td>\n",
       "      <td>peugeot</td>\n",
       "      <td>ksa</td>\n",
       "    </tr>\n",
       "    <tr>\n",
       "      <th>7</th>\n",
       "      <td>Peugeot Expert 2021 Van L3 M/T</td>\n",
       "      <td>76545.000000</td>\n",
       "      <td>20.0</td>\n",
       "      <td>4.0</td>\n",
       "      <td>120.0</td>\n",
       "      <td>170.0</td>\n",
       "      <td>5.0</td>\n",
       "      <td>peugeot</td>\n",
       "      <td>ksa</td>\n",
       "    </tr>\n",
       "    <tr>\n",
       "      <th>8</th>\n",
       "      <td>Renault Koleos 2021 2.5L LE (4WD)</td>\n",
       "      <td>116900.000000</td>\n",
       "      <td>25.0</td>\n",
       "      <td>4.0</td>\n",
       "      <td>170.0</td>\n",
       "      <td>199.0</td>\n",
       "      <td>5.0</td>\n",
       "      <td>renault</td>\n",
       "      <td>ksa</td>\n",
       "    </tr>\n",
       "    <tr>\n",
       "      <th>9</th>\n",
       "      <td>Ford Bronco 2021 2.7T Outer Banks</td>\n",
       "      <td>238000.000000</td>\n",
       "      <td>27.0</td>\n",
       "      <td>6.0</td>\n",
       "      <td>542.0</td>\n",
       "      <td>250.0</td>\n",
       "      <td>6.9</td>\n",
       "      <td>ford</td>\n",
       "      <td>ksa</td>\n",
       "    </tr>\n",
       "  </tbody>\n",
       "</table>\n",
       "</div>"
      ],
      "text/plain": [
       "                            car name          price  engine_capacity  \\\n",
       "0            Fiat 500e 2021 La Prima  200455.127134              0.0   \n",
       "1      Peugeot Traveller 2021 L3 VIP  140575.000000             20.0   \n",
       "2   Suzuki Jimny 2021 1.5L Automatic   98785.000000             15.0   \n",
       "3     Ford Bronco 2021 2.3T Big Bend  198000.000000             23.0   \n",
       "4      Honda HR-V 2021 1.8 i-VTEC LX  200455.127134             18.0   \n",
       "5      Honda HR-V 2021 1.8 i-VTEC EX   95335.000000             18.0   \n",
       "6     Peugeot Expert 2021 Van L3 A/T   82845.000000             20.0   \n",
       "7     Peugeot Expert 2021 Van L3 M/T   76545.000000             20.0   \n",
       "8  Renault Koleos 2021 2.5L LE (4WD)  116900.000000             25.0   \n",
       "9  Ford Bronco 2021 2.7T Outer Banks  238000.000000             27.0   \n",
       "\n",
       "   cylinder  horse_power  top_speed  seats    brand country  \n",
       "0       4.0        150.0      250.0  150.0     fiat     ksa  \n",
       "1       4.0        180.0      250.0    8.8  peugeot     ksa  \n",
       "2       4.0        102.0      145.0    4.0   suzuki     ksa  \n",
       "3       4.0        420.0      250.0    7.5     ford     ksa  \n",
       "4       4.0        140.0      190.0    5.0    honda     ksa  \n",
       "5       4.0        140.0      190.0    5.0    honda     ksa  \n",
       "6       4.0        120.0      170.0    5.0  peugeot     ksa  \n",
       "7       4.0        120.0      170.0    5.0  peugeot     ksa  \n",
       "8       4.0        170.0      199.0    5.0  renault     ksa  \n",
       "9       6.0        542.0      250.0    6.9     ford     ksa  "
      ]
     },
     "execution_count": 199,
     "metadata": {},
     "output_type": "execute_result"
    }
   ],
   "source": [
    "df.head(10)"
   ]
  },
  {
   "cell_type": "code",
   "execution_count": 200,
   "id": "ccd04884",
   "metadata": {},
   "outputs": [
    {
     "data": {
      "text/plain": [
       "3"
      ]
     },
     "execution_count": 200,
     "metadata": {},
     "output_type": "execute_result"
    }
   ],
   "source": [
    " # Sum total of the null values \n",
    "df.isnull().sum().sum()"
   ]
  },
  {
   "cell_type": "code",
   "execution_count": 201,
   "id": "2cd7cf49",
   "metadata": {},
   "outputs": [
    {
     "data": {
      "text/plain": [
       "(6308, 9)"
      ]
     },
     "execution_count": 201,
     "metadata": {},
     "output_type": "execute_result"
    }
   ],
   "source": [
    "df.shape"
   ]
  },
  {
   "cell_type": "code",
   "execution_count": 202,
   "id": "10d220d9",
   "metadata": {},
   "outputs": [
    {
     "data": {
      "text/plain": [
       "car name           0\n",
       "price              0\n",
       "engine_capacity    3\n",
       "cylinder           0\n",
       "horse_power        0\n",
       "top_speed          0\n",
       "seats              0\n",
       "brand              0\n",
       "country            0\n",
       "dtype: int64"
      ]
     },
     "execution_count": 202,
     "metadata": {},
     "output_type": "execute_result"
    }
   ],
   "source": [
    "# check for null values \n",
    "df.isnull().sum()"
   ]
  },
  {
   "cell_type": "code",
   "execution_count": 203,
   "id": "903101d0",
   "metadata": {},
   "outputs": [
    {
     "data": {
      "text/plain": [
       "0       False\n",
       "1       False\n",
       "2       False\n",
       "3       False\n",
       "4       False\n",
       "        ...  \n",
       "6303    False\n",
       "6304    False\n",
       "6305    False\n",
       "6306    False\n",
       "6307    False\n",
       "Length: 6308, dtype: bool"
      ]
     },
     "execution_count": 203,
     "metadata": {},
     "output_type": "execute_result"
    }
   ],
   "source": [
    "df.duplicated()"
   ]
  },
  {
   "cell_type": "code",
   "execution_count": 204,
   "id": "8471c161",
   "metadata": {},
   "outputs": [
    {
     "data": {
      "text/plain": [
       "16"
      ]
     },
     "execution_count": 204,
     "metadata": {},
     "output_type": "execute_result"
    }
   ],
   "source": [
    "df.duplicated().sum()"
   ]
  },
  {
   "cell_type": "code",
   "execution_count": 205,
   "id": "5bd7eea0",
   "metadata": {},
   "outputs": [
    {
     "data": {
      "text/html": [
       "<div>\n",
       "<style scoped>\n",
       "    .dataframe tbody tr th:only-of-type {\n",
       "        vertical-align: middle;\n",
       "    }\n",
       "\n",
       "    .dataframe tbody tr th {\n",
       "        vertical-align: top;\n",
       "    }\n",
       "\n",
       "    .dataframe thead th {\n",
       "        text-align: right;\n",
       "    }\n",
       "</style>\n",
       "<table border=\"1\" class=\"dataframe\">\n",
       "  <thead>\n",
       "    <tr style=\"text-align: right;\">\n",
       "      <th></th>\n",
       "      <th>car name</th>\n",
       "      <th>price</th>\n",
       "      <th>engine_capacity</th>\n",
       "      <th>cylinder</th>\n",
       "      <th>horse_power</th>\n",
       "      <th>top_speed</th>\n",
       "      <th>seats</th>\n",
       "      <th>brand</th>\n",
       "      <th>country</th>\n",
       "    </tr>\n",
       "  </thead>\n",
       "  <tbody>\n",
       "    <tr>\n",
       "      <th>1128</th>\n",
       "      <td>Mercedes-Benz C-Class 2022 C 300</td>\n",
       "      <td>200455.127134</td>\n",
       "      <td>1991.0</td>\n",
       "      <td>4.0</td>\n",
       "      <td>255.0</td>\n",
       "      <td>209.0</td>\n",
       "      <td>5.0</td>\n",
       "      <td>mercedes-benz</td>\n",
       "      <td>egypt</td>\n",
       "    </tr>\n",
       "    <tr>\n",
       "      <th>1591</th>\n",
       "      <td>Toyota Yaris Sedan 2021 1.5L SE</td>\n",
       "      <td>6200.000000</td>\n",
       "      <td>15.0</td>\n",
       "      <td>4.0</td>\n",
       "      <td>105.0</td>\n",
       "      <td>175.0</td>\n",
       "      <td>5.0</td>\n",
       "      <td>toyota</td>\n",
       "      <td>bahrain</td>\n",
       "    </tr>\n",
       "    <tr>\n",
       "      <th>3546</th>\n",
       "      <td>Nissan Pathfinder 2022 3.5L S 2WD</td>\n",
       "      <td>200455.127134</td>\n",
       "      <td>35.0</td>\n",
       "      <td>6.0</td>\n",
       "      <td>271.0</td>\n",
       "      <td>190.0</td>\n",
       "      <td>7.0</td>\n",
       "      <td>nissan</td>\n",
       "      <td>oman</td>\n",
       "    </tr>\n",
       "    <tr>\n",
       "      <th>4676</th>\n",
       "      <td>Mercedes-Benz C-Class 2022 C 300</td>\n",
       "      <td>200455.127134</td>\n",
       "      <td>20.0</td>\n",
       "      <td>4.0</td>\n",
       "      <td>255.0</td>\n",
       "      <td>209.0</td>\n",
       "      <td>5.0</td>\n",
       "      <td>mercedes-benz</td>\n",
       "      <td>kuwait</td>\n",
       "    </tr>\n",
       "    <tr>\n",
       "      <th>5296</th>\n",
       "      <td>Renault Megane 2021 1.6L LE</td>\n",
       "      <td>70500.000000</td>\n",
       "      <td>16.0</td>\n",
       "      <td>4.0</td>\n",
       "      <td>115.0</td>\n",
       "      <td>180.0</td>\n",
       "      <td>5.0</td>\n",
       "      <td>renault</td>\n",
       "      <td>uae</td>\n",
       "    </tr>\n",
       "    <tr>\n",
       "      <th>5338</th>\n",
       "      <td>Renault Megane 2021 2.0L LE</td>\n",
       "      <td>73500.000000</td>\n",
       "      <td>20.0</td>\n",
       "      <td>4.0</td>\n",
       "      <td>140.0</td>\n",
       "      <td>207.0</td>\n",
       "      <td>5.0</td>\n",
       "      <td>renault</td>\n",
       "      <td>uae</td>\n",
       "    </tr>\n",
       "    <tr>\n",
       "      <th>5435</th>\n",
       "      <td>Toyota Camry 2021 2.5L S (204 HP)</td>\n",
       "      <td>95500.000000</td>\n",
       "      <td>25.0</td>\n",
       "      <td>4.0</td>\n",
       "      <td>204.0</td>\n",
       "      <td>195.0</td>\n",
       "      <td>5.0</td>\n",
       "      <td>toyota</td>\n",
       "      <td>uae</td>\n",
       "    </tr>\n",
       "    <tr>\n",
       "      <th>5455</th>\n",
       "      <td>Opel Grandland X 2021 1.6T Innovation</td>\n",
       "      <td>95000.000000</td>\n",
       "      <td>16.0</td>\n",
       "      <td>4.0</td>\n",
       "      <td>163.0</td>\n",
       "      <td>201.0</td>\n",
       "      <td>5.0</td>\n",
       "      <td>opel</td>\n",
       "      <td>uae</td>\n",
       "    </tr>\n",
       "    <tr>\n",
       "      <th>5472</th>\n",
       "      <td>Toyota Innova 2021 2.7L SE</td>\n",
       "      <td>99650.000000</td>\n",
       "      <td>27.0</td>\n",
       "      <td>4.0</td>\n",
       "      <td>164.0</td>\n",
       "      <td>170.0</td>\n",
       "      <td>8.0</td>\n",
       "      <td>toyota</td>\n",
       "      <td>uae</td>\n",
       "    </tr>\n",
       "    <tr>\n",
       "      <th>5581</th>\n",
       "      <td>Changan CS95 2022 2.0T Royal (7-Seater) AWD</td>\n",
       "      <td>130000.000000</td>\n",
       "      <td>20.0</td>\n",
       "      <td>4.0</td>\n",
       "      <td>233.0</td>\n",
       "      <td>190.0</td>\n",
       "      <td>7.0</td>\n",
       "      <td>changan</td>\n",
       "      <td>uae</td>\n",
       "    </tr>\n",
       "    <tr>\n",
       "      <th>5595</th>\n",
       "      <td>Nissan Pathfinder 2022 3.5L S 4WD</td>\n",
       "      <td>200455.127134</td>\n",
       "      <td>35.0</td>\n",
       "      <td>6.0</td>\n",
       "      <td>271.0</td>\n",
       "      <td>190.0</td>\n",
       "      <td>7.0</td>\n",
       "      <td>nissan</td>\n",
       "      <td>uae</td>\n",
       "    </tr>\n",
       "    <tr>\n",
       "      <th>5719</th>\n",
       "      <td>Nissan Pathfinder 2022 3.5L SV 4WD</td>\n",
       "      <td>200455.127134</td>\n",
       "      <td>35.0</td>\n",
       "      <td>6.0</td>\n",
       "      <td>271.0</td>\n",
       "      <td>190.0</td>\n",
       "      <td>7.0</td>\n",
       "      <td>nissan</td>\n",
       "      <td>uae</td>\n",
       "    </tr>\n",
       "    <tr>\n",
       "      <th>5745</th>\n",
       "      <td>Nissan Pathfinder 2022 3.5L SL 4WD</td>\n",
       "      <td>200455.127134</td>\n",
       "      <td>35.0</td>\n",
       "      <td>6.0</td>\n",
       "      <td>271.0</td>\n",
       "      <td>190.0</td>\n",
       "      <td>7.0</td>\n",
       "      <td>nissan</td>\n",
       "      <td>uae</td>\n",
       "    </tr>\n",
       "    <tr>\n",
       "      <th>5839</th>\n",
       "      <td>Mercedes-Benz C-Class 2022 C 300</td>\n",
       "      <td>200455.127134</td>\n",
       "      <td>20.0</td>\n",
       "      <td>4.0</td>\n",
       "      <td>255.0</td>\n",
       "      <td>209.0</td>\n",
       "      <td>5.0</td>\n",
       "      <td>mercedes-benz</td>\n",
       "      <td>uae</td>\n",
       "    </tr>\n",
       "    <tr>\n",
       "      <th>5924</th>\n",
       "      <td>Jaguar E-Pace 2018 2.0T S (250 PS)</td>\n",
       "      <td>200455.127134</td>\n",
       "      <td>20.0</td>\n",
       "      <td>4.0</td>\n",
       "      <td>245.0</td>\n",
       "      <td>230.0</td>\n",
       "      <td>5.0</td>\n",
       "      <td>jaguar</td>\n",
       "      <td>uae</td>\n",
       "    </tr>\n",
       "    <tr>\n",
       "      <th>5977</th>\n",
       "      <td>Ford F-150 Raptor 2022 3.5L EcoBoost Super Cab...</td>\n",
       "      <td>200455.127134</td>\n",
       "      <td>35.0</td>\n",
       "      <td>6.0</td>\n",
       "      <td>422.0</td>\n",
       "      <td>170.0</td>\n",
       "      <td>5.0</td>\n",
       "      <td>ford</td>\n",
       "      <td>uae</td>\n",
       "    </tr>\n",
       "  </tbody>\n",
       "</table>\n",
       "</div>"
      ],
      "text/plain": [
       "                                               car name          price  \\\n",
       "1128                   Mercedes-Benz C-Class 2022 C 300  200455.127134   \n",
       "1591                    Toyota Yaris Sedan 2021 1.5L SE    6200.000000   \n",
       "3546                  Nissan Pathfinder 2022 3.5L S 2WD  200455.127134   \n",
       "4676                   Mercedes-Benz C-Class 2022 C 300  200455.127134   \n",
       "5296                        Renault Megane 2021 1.6L LE   70500.000000   \n",
       "5338                        Renault Megane 2021 2.0L LE   73500.000000   \n",
       "5435                  Toyota Camry 2021 2.5L S (204 HP)   95500.000000   \n",
       "5455              Opel Grandland X 2021 1.6T Innovation   95000.000000   \n",
       "5472                         Toyota Innova 2021 2.7L SE   99650.000000   \n",
       "5581        Changan CS95 2022 2.0T Royal (7-Seater) AWD  130000.000000   \n",
       "5595                  Nissan Pathfinder 2022 3.5L S 4WD  200455.127134   \n",
       "5719                 Nissan Pathfinder 2022 3.5L SV 4WD  200455.127134   \n",
       "5745                 Nissan Pathfinder 2022 3.5L SL 4WD  200455.127134   \n",
       "5839                   Mercedes-Benz C-Class 2022 C 300  200455.127134   \n",
       "5924                 Jaguar E-Pace 2018 2.0T S (250 PS)  200455.127134   \n",
       "5977  Ford F-150 Raptor 2022 3.5L EcoBoost Super Cab...  200455.127134   \n",
       "\n",
       "      engine_capacity  cylinder  horse_power  top_speed  seats          brand  \\\n",
       "1128           1991.0       4.0        255.0      209.0    5.0  mercedes-benz   \n",
       "1591             15.0       4.0        105.0      175.0    5.0         toyota   \n",
       "3546             35.0       6.0        271.0      190.0    7.0         nissan   \n",
       "4676             20.0       4.0        255.0      209.0    5.0  mercedes-benz   \n",
       "5296             16.0       4.0        115.0      180.0    5.0        renault   \n",
       "5338             20.0       4.0        140.0      207.0    5.0        renault   \n",
       "5435             25.0       4.0        204.0      195.0    5.0         toyota   \n",
       "5455             16.0       4.0        163.0      201.0    5.0           opel   \n",
       "5472             27.0       4.0        164.0      170.0    8.0         toyota   \n",
       "5581             20.0       4.0        233.0      190.0    7.0        changan   \n",
       "5595             35.0       6.0        271.0      190.0    7.0         nissan   \n",
       "5719             35.0       6.0        271.0      190.0    7.0         nissan   \n",
       "5745             35.0       6.0        271.0      190.0    7.0         nissan   \n",
       "5839             20.0       4.0        255.0      209.0    5.0  mercedes-benz   \n",
       "5924             20.0       4.0        245.0      230.0    5.0         jaguar   \n",
       "5977             35.0       6.0        422.0      170.0    5.0           ford   \n",
       "\n",
       "      country  \n",
       "1128    egypt  \n",
       "1591  bahrain  \n",
       "3546     oman  \n",
       "4676   kuwait  \n",
       "5296      uae  \n",
       "5338      uae  \n",
       "5435      uae  \n",
       "5455      uae  \n",
       "5472      uae  \n",
       "5581      uae  \n",
       "5595      uae  \n",
       "5719      uae  \n",
       "5745      uae  \n",
       "5839      uae  \n",
       "5924      uae  \n",
       "5977      uae  "
      ]
     },
     "execution_count": 205,
     "metadata": {},
     "output_type": "execute_result"
    }
   ],
   "source": [
    "df[df.duplicated()]"
   ]
  },
  {
   "cell_type": "code",
   "execution_count": 206,
   "id": "521e8b18",
   "metadata": {},
   "outputs": [],
   "source": [
    "df.drop_duplicates(inplace=True)"
   ]
  },
  {
   "cell_type": "code",
   "execution_count": 207,
   "id": "4cddc90d",
   "metadata": {},
   "outputs": [
    {
     "data": {
      "text/html": [
       "<div>\n",
       "<style scoped>\n",
       "    .dataframe tbody tr th:only-of-type {\n",
       "        vertical-align: middle;\n",
       "    }\n",
       "\n",
       "    .dataframe tbody tr th {\n",
       "        vertical-align: top;\n",
       "    }\n",
       "\n",
       "    .dataframe thead th {\n",
       "        text-align: right;\n",
       "    }\n",
       "</style>\n",
       "<table border=\"1\" class=\"dataframe\">\n",
       "  <thead>\n",
       "    <tr style=\"text-align: right;\">\n",
       "      <th></th>\n",
       "      <th>car name</th>\n",
       "      <th>price</th>\n",
       "      <th>engine_capacity</th>\n",
       "      <th>cylinder</th>\n",
       "      <th>horse_power</th>\n",
       "      <th>top_speed</th>\n",
       "      <th>seats</th>\n",
       "      <th>brand</th>\n",
       "      <th>country</th>\n",
       "    </tr>\n",
       "  </thead>\n",
       "  <tbody>\n",
       "  </tbody>\n",
       "</table>\n",
       "</div>"
      ],
      "text/plain": [
       "Empty DataFrame\n",
       "Columns: [car name, price, engine_capacity, cylinder, horse_power, top_speed, seats, brand, country]\n",
       "Index: []"
      ]
     },
     "execution_count": 207,
     "metadata": {},
     "output_type": "execute_result"
    }
   ],
   "source": [
    "df[df.duplicated()]"
   ]
  },
  {
   "cell_type": "code",
   "execution_count": 208,
   "id": "ee0935a7",
   "metadata": {},
   "outputs": [
    {
     "data": {
      "text/html": [
       "<div>\n",
       "<style scoped>\n",
       "    .dataframe tbody tr th:only-of-type {\n",
       "        vertical-align: middle;\n",
       "    }\n",
       "\n",
       "    .dataframe tbody tr th {\n",
       "        vertical-align: top;\n",
       "    }\n",
       "\n",
       "    .dataframe thead th {\n",
       "        text-align: right;\n",
       "    }\n",
       "</style>\n",
       "<table border=\"1\" class=\"dataframe\">\n",
       "  <thead>\n",
       "    <tr style=\"text-align: right;\">\n",
       "      <th></th>\n",
       "      <th>car name</th>\n",
       "      <th>price</th>\n",
       "      <th>engine_capacity</th>\n",
       "      <th>cylinder</th>\n",
       "      <th>horse_power</th>\n",
       "      <th>top_speed</th>\n",
       "      <th>seats</th>\n",
       "      <th>brand</th>\n",
       "      <th>country</th>\n",
       "    </tr>\n",
       "  </thead>\n",
       "  <tbody>\n",
       "    <tr>\n",
       "      <th>0</th>\n",
       "      <td>Fiat 500e 2021 La Prima</td>\n",
       "      <td>200455.127134</td>\n",
       "      <td>0.0</td>\n",
       "      <td>4.0</td>\n",
       "      <td>150.0</td>\n",
       "      <td>250.0</td>\n",
       "      <td>150.0</td>\n",
       "      <td>fiat</td>\n",
       "      <td>ksa</td>\n",
       "    </tr>\n",
       "    <tr>\n",
       "      <th>1</th>\n",
       "      <td>Peugeot Traveller 2021 L3 VIP</td>\n",
       "      <td>140575.000000</td>\n",
       "      <td>20.0</td>\n",
       "      <td>4.0</td>\n",
       "      <td>180.0</td>\n",
       "      <td>250.0</td>\n",
       "      <td>8.8</td>\n",
       "      <td>peugeot</td>\n",
       "      <td>ksa</td>\n",
       "    </tr>\n",
       "    <tr>\n",
       "      <th>2</th>\n",
       "      <td>Suzuki Jimny 2021 1.5L Automatic</td>\n",
       "      <td>98785.000000</td>\n",
       "      <td>15.0</td>\n",
       "      <td>4.0</td>\n",
       "      <td>102.0</td>\n",
       "      <td>145.0</td>\n",
       "      <td>4.0</td>\n",
       "      <td>suzuki</td>\n",
       "      <td>ksa</td>\n",
       "    </tr>\n",
       "    <tr>\n",
       "      <th>3</th>\n",
       "      <td>Ford Bronco 2021 2.3T Big Bend</td>\n",
       "      <td>198000.000000</td>\n",
       "      <td>23.0</td>\n",
       "      <td>4.0</td>\n",
       "      <td>420.0</td>\n",
       "      <td>250.0</td>\n",
       "      <td>7.5</td>\n",
       "      <td>ford</td>\n",
       "      <td>ksa</td>\n",
       "    </tr>\n",
       "    <tr>\n",
       "      <th>4</th>\n",
       "      <td>Honda HR-V 2021 1.8 i-VTEC LX</td>\n",
       "      <td>200455.127134</td>\n",
       "      <td>18.0</td>\n",
       "      <td>4.0</td>\n",
       "      <td>140.0</td>\n",
       "      <td>190.0</td>\n",
       "      <td>5.0</td>\n",
       "      <td>honda</td>\n",
       "      <td>ksa</td>\n",
       "    </tr>\n",
       "  </tbody>\n",
       "</table>\n",
       "</div>"
      ],
      "text/plain": [
       "                           car name          price  engine_capacity  cylinder  \\\n",
       "0           Fiat 500e 2021 La Prima  200455.127134              0.0       4.0   \n",
       "1     Peugeot Traveller 2021 L3 VIP  140575.000000             20.0       4.0   \n",
       "2  Suzuki Jimny 2021 1.5L Automatic   98785.000000             15.0       4.0   \n",
       "3    Ford Bronco 2021 2.3T Big Bend  198000.000000             23.0       4.0   \n",
       "4     Honda HR-V 2021 1.8 i-VTEC LX  200455.127134             18.0       4.0   \n",
       "\n",
       "   horse_power  top_speed  seats    brand country  \n",
       "0        150.0      250.0  150.0     fiat     ksa  \n",
       "1        180.0      250.0    8.8  peugeot     ksa  \n",
       "2        102.0      145.0    4.0   suzuki     ksa  \n",
       "3        420.0      250.0    7.5     ford     ksa  \n",
       "4        140.0      190.0    5.0    honda     ksa  "
      ]
     },
     "execution_count": 208,
     "metadata": {},
     "output_type": "execute_result"
    }
   ],
   "source": [
    "df.head()"
   ]
  },
  {
   "cell_type": "code",
   "execution_count": 209,
   "id": "0c710b72",
   "metadata": {},
   "outputs": [
    {
     "data": {
      "text/html": [
       "<div>\n",
       "<style scoped>\n",
       "    .dataframe tbody tr th:only-of-type {\n",
       "        vertical-align: middle;\n",
       "    }\n",
       "\n",
       "    .dataframe tbody tr th {\n",
       "        vertical-align: top;\n",
       "    }\n",
       "\n",
       "    .dataframe thead th {\n",
       "        text-align: right;\n",
       "    }\n",
       "</style>\n",
       "<table border=\"1\" class=\"dataframe\">\n",
       "  <thead>\n",
       "    <tr style=\"text-align: right;\">\n",
       "      <th></th>\n",
       "      <th>price</th>\n",
       "      <th>engine_capacity</th>\n",
       "      <th>cylinder</th>\n",
       "      <th>horse_power</th>\n",
       "      <th>top_speed</th>\n",
       "      <th>seats</th>\n",
       "    </tr>\n",
       "  </thead>\n",
       "  <tbody>\n",
       "    <tr>\n",
       "      <th>price</th>\n",
       "      <td>1.000000</td>\n",
       "      <td>0.400522</td>\n",
       "      <td>0.238948</td>\n",
       "      <td>0.273334</td>\n",
       "      <td>0.244632</td>\n",
       "      <td>-0.004049</td>\n",
       "    </tr>\n",
       "    <tr>\n",
       "      <th>engine_capacity</th>\n",
       "      <td>0.400522</td>\n",
       "      <td>1.000000</td>\n",
       "      <td>0.005435</td>\n",
       "      <td>-0.025712</td>\n",
       "      <td>-0.007930</td>\n",
       "      <td>-0.029851</td>\n",
       "    </tr>\n",
       "    <tr>\n",
       "      <th>cylinder</th>\n",
       "      <td>0.238948</td>\n",
       "      <td>0.005435</td>\n",
       "      <td>1.000000</td>\n",
       "      <td>0.675320</td>\n",
       "      <td>0.432364</td>\n",
       "      <td>-0.085181</td>\n",
       "    </tr>\n",
       "    <tr>\n",
       "      <th>horse_power</th>\n",
       "      <td>0.273334</td>\n",
       "      <td>-0.025712</td>\n",
       "      <td>0.675320</td>\n",
       "      <td>1.000000</td>\n",
       "      <td>0.540339</td>\n",
       "      <td>-0.100858</td>\n",
       "    </tr>\n",
       "    <tr>\n",
       "      <th>top_speed</th>\n",
       "      <td>0.244632</td>\n",
       "      <td>-0.007930</td>\n",
       "      <td>0.432364</td>\n",
       "      <td>0.540339</td>\n",
       "      <td>1.000000</td>\n",
       "      <td>0.039253</td>\n",
       "    </tr>\n",
       "    <tr>\n",
       "      <th>seats</th>\n",
       "      <td>-0.004049</td>\n",
       "      <td>-0.029851</td>\n",
       "      <td>-0.085181</td>\n",
       "      <td>-0.100858</td>\n",
       "      <td>0.039253</td>\n",
       "      <td>1.000000</td>\n",
       "    </tr>\n",
       "  </tbody>\n",
       "</table>\n",
       "</div>"
      ],
      "text/plain": [
       "                    price  engine_capacity  cylinder  horse_power  top_speed  \\\n",
       "price            1.000000         0.400522  0.238948     0.273334   0.244632   \n",
       "engine_capacity  0.400522         1.000000  0.005435    -0.025712  -0.007930   \n",
       "cylinder         0.238948         0.005435  1.000000     0.675320   0.432364   \n",
       "horse_power      0.273334        -0.025712  0.675320     1.000000   0.540339   \n",
       "top_speed        0.244632        -0.007930  0.432364     0.540339   1.000000   \n",
       "seats           -0.004049        -0.029851 -0.085181    -0.100858   0.039253   \n",
       "\n",
       "                    seats  \n",
       "price           -0.004049  \n",
       "engine_capacity -0.029851  \n",
       "cylinder        -0.085181  \n",
       "horse_power     -0.100858  \n",
       "top_speed        0.039253  \n",
       "seats            1.000000  "
      ]
     },
     "execution_count": 209,
     "metadata": {},
     "output_type": "execute_result"
    }
   ],
   "source": [
    "df.corr()"
   ]
  },
  {
   "cell_type": "code",
   "execution_count": 210,
   "id": "248e0e55",
   "metadata": {},
   "outputs": [
    {
     "data": {
      "text/plain": [
       "uae        1236\n",
       "ksa         996\n",
       "kuwait      931\n",
       "qatar       925\n",
       "oman        909\n",
       "bahrain     905\n",
       "egypt       390\n",
       "Name: country, dtype: int64"
      ]
     },
     "execution_count": 210,
     "metadata": {},
     "output_type": "execute_result"
    }
   ],
   "source": [
    "df['country'].value_counts()"
   ]
  },
  {
   "cell_type": "code",
   "execution_count": 211,
   "id": "e5fc8256",
   "metadata": {},
   "outputs": [
    {
     "data": {
      "text/plain": [
       "mercedes-benz    557\n",
       "audi             398\n",
       "bmw              394\n",
       "toyota           375\n",
       "ford             322\n",
       "                ... \n",
       "zna                2\n",
       "byd                2\n",
       "soueast            2\n",
       "bugatti            1\n",
       "dfm                1\n",
       "Name: brand, Length: 82, dtype: int64"
      ]
     },
     "execution_count": 211,
     "metadata": {},
     "output_type": "execute_result"
    }
   ],
   "source": [
    "df['brand'].value_counts()"
   ]
  },
  {
   "cell_type": "code",
   "execution_count": 212,
   "id": "383d646b",
   "metadata": {},
   "outputs": [
    {
     "data": {
      "text/plain": [
       "<function matplotlib.pyplot.show(close=None, block=None)>"
      ]
     },
     "execution_count": 212,
     "metadata": {},
     "output_type": "execute_result"
    },
    {
     "data": {
      "image/png": "[encoded data removed]",
      "text/plain": [
       "<Figure size 576x432 with 2 Axes>"
      ]
     },
     "metadata": {},
     "output_type": "display_data"
    }
   ],
   "source": [
    "plt.figure(figsize=(8,6))\n",
    "sns.heatmap(df.corr(),cmap='YlGnBu',annot=True)\n",
    "plt.show"
   ]
  },
  {
   "cell_type": "code",
   "execution_count": 213,
   "id": "99bde9c4",
   "metadata": {},
   "outputs": [
    {
     "data": {
      "text/html": [
       "<div>\n",
       "<style scoped>\n",
       "    .dataframe tbody tr th:only-of-type {\n",
       "        vertical-align: middle;\n",
       "    }\n",
       "\n",
       "    .dataframe tbody tr th {\n",
       "        vertical-align: top;\n",
       "    }\n",
       "\n",
       "    .dataframe thead th {\n",
       "        text-align: right;\n",
       "    }\n",
       "</style>\n",
       "<table border=\"1\" class=\"dataframe\">\n",
       "  <thead>\n",
       "    <tr style=\"text-align: right;\">\n",
       "      <th></th>\n",
       "      <th>country</th>\n",
       "      <th>counts</th>\n",
       "    </tr>\n",
       "  </thead>\n",
       "  <tbody>\n",
       "    <tr>\n",
       "      <th>0</th>\n",
       "      <td>bahrain</td>\n",
       "      <td>905</td>\n",
       "    </tr>\n",
       "    <tr>\n",
       "      <th>1</th>\n",
       "      <td>egypt</td>\n",
       "      <td>390</td>\n",
       "    </tr>\n",
       "    <tr>\n",
       "      <th>2</th>\n",
       "      <td>ksa</td>\n",
       "      <td>996</td>\n",
       "    </tr>\n",
       "    <tr>\n",
       "      <th>3</th>\n",
       "      <td>kuwait</td>\n",
       "      <td>931</td>\n",
       "    </tr>\n",
       "    <tr>\n",
       "      <th>4</th>\n",
       "      <td>oman</td>\n",
       "      <td>909</td>\n",
       "    </tr>\n",
       "    <tr>\n",
       "      <th>5</th>\n",
       "      <td>qatar</td>\n",
       "      <td>925</td>\n",
       "    </tr>\n",
       "    <tr>\n",
       "      <th>6</th>\n",
       "      <td>uae</td>\n",
       "      <td>1236</td>\n",
       "    </tr>\n",
       "  </tbody>\n",
       "</table>\n",
       "</div>"
      ],
      "text/plain": [
       "   country  counts\n",
       "0  bahrain     905\n",
       "1    egypt     390\n",
       "2      ksa     996\n",
       "3   kuwait     931\n",
       "4     oman     909\n",
       "5    qatar     925\n",
       "6      uae    1236"
      ]
     },
     "execution_count": 213,
     "metadata": {},
     "output_type": "execute_result"
    }
   ],
   "source": [
    "Top_countries = df.groupby(['country']).size().reset_index(name='counts')\n",
    "Top_countries"
   ]
  },
  {
   "cell_type": "code",
   "execution_count": 214,
   "id": "0ec8ee95",
   "metadata": {},
   "outputs": [
    {
     "data": {
      "image/png": "[encoded data removed]",
      "text/plain": [
       "<Figure size 1080x360 with 1 Axes>"
      ]
     },
     "metadata": {},
     "output_type": "display_data"
    }
   ],
   "source": [
    "plt.figure(figsize = (15,5)) \n",
    "plt.title(\"Most Common Country\", fontsize=18) \n",
    "plt.bar(Top_countries[\"country\"], Top_countries[\"counts\"],color= '#99ff99',edgecolor='green', linewidth = 1)\n",
    "plt.xlabel(\"Country\",fontsize=15) \n",
    "plt.ylabel(\"Count\",fontsize=15) \n",
    "plt.xticks(fontsize=12, rotation=90)\n",
    "plt.yticks(fontsize=12)\n",
    "for k,v in Top_countries[\"counts\"].items(): \n",
    "    if v > 800 : \n",
    "        plt.text(k,v-300,str(v), fontsize=12,rotation=90,color='k', horizontalalignment='center');\n",
    "    else:\n",
    "        plt.text(k,v,str(v), fontsize=12,rotation=90,color='k', horizontalalignment='center');"
   ]
  },
  {
   "cell_type": "code",
   "execution_count": 215,
   "id": "f796d5da",
   "metadata": {},
   "outputs": [
    {
     "data": {
      "text/html": [
       "<div>\n",
       "<style scoped>\n",
       "    .dataframe tbody tr th:only-of-type {\n",
       "        vertical-align: middle;\n",
       "    }\n",
       "\n",
       "    .dataframe tbody tr th {\n",
       "        vertical-align: top;\n",
       "    }\n",
       "\n",
       "    .dataframe thead th {\n",
       "        text-align: right;\n",
       "    }\n",
       "</style>\n",
       "<table border=\"1\" class=\"dataframe\">\n",
       "  <thead>\n",
       "    <tr style=\"text-align: right;\">\n",
       "      <th></th>\n",
       "      <th>brand</th>\n",
       "      <th>counts</th>\n",
       "    </tr>\n",
       "  </thead>\n",
       "  <tbody>\n",
       "    <tr>\n",
       "      <th>55</th>\n",
       "      <td>mercedes-benz</td>\n",
       "      <td>557</td>\n",
       "    </tr>\n",
       "    <tr>\n",
       "      <th>5</th>\n",
       "      <td>audi</td>\n",
       "      <td>398</td>\n",
       "    </tr>\n",
       "    <tr>\n",
       "      <th>9</th>\n",
       "      <td>bmw</td>\n",
       "      <td>394</td>\n",
       "    </tr>\n",
       "    <tr>\n",
       "      <th>77</th>\n",
       "      <td>toyota</td>\n",
       "      <td>375</td>\n",
       "    </tr>\n",
       "    <tr>\n",
       "      <th>26</th>\n",
       "      <td>ford</td>\n",
       "      <td>322</td>\n",
       "    </tr>\n",
       "    <tr>\n",
       "      <th>63</th>\n",
       "      <td>porsche</td>\n",
       "      <td>303</td>\n",
       "    </tr>\n",
       "    <tr>\n",
       "      <th>60</th>\n",
       "      <td>nissan</td>\n",
       "      <td>286</td>\n",
       "    </tr>\n",
       "    <tr>\n",
       "      <th>17</th>\n",
       "      <td>chevrolet</td>\n",
       "      <td>266</td>\n",
       "    </tr>\n",
       "    <tr>\n",
       "      <th>47</th>\n",
       "      <td>lexus</td>\n",
       "      <td>238</td>\n",
       "    </tr>\n",
       "    <tr>\n",
       "      <th>35</th>\n",
       "      <td>hyundai</td>\n",
       "      <td>228</td>\n",
       "    </tr>\n",
       "  </tbody>\n",
       "</table>\n",
       "</div>"
      ],
      "text/plain": [
       "            brand  counts\n",
       "55  mercedes-benz     557\n",
       "5            audi     398\n",
       "9             bmw     394\n",
       "77         toyota     375\n",
       "26           ford     322\n",
       "63        porsche     303\n",
       "60         nissan     286\n",
       "17      chevrolet     266\n",
       "47          lexus     238\n",
       "35        hyundai     228"
      ]
     },
     "execution_count": 215,
     "metadata": {},
     "output_type": "execute_result"
    }
   ],
   "source": [
    "Top_brands = df.groupby(['brand']).size().reset_index(name='counts').sort_values('counts',ascending=False).head(10)\n",
    "Top_brands"
   ]
  },
  {
   "cell_type": "code",
   "execution_count": 216,
   "id": "990d9646",
   "metadata": {},
   "outputs": [
    {
     "data": {
      "text/plain": [
       "(array([  0., 100., 200., 300., 400., 500., 600.]),\n",
       " [Text(0, 0, ''),\n",
       "  Text(0, 0, ''),\n",
       "  Text(0, 0, ''),\n",
       "  Text(0, 0, ''),\n",
       "  Text(0, 0, ''),\n",
       "  Text(0, 0, ''),\n",
       "  Text(0, 0, '')])"
      ]
     },
     "execution_count": 216,
     "metadata": {},
     "output_type": "execute_result"
    },
    {
     "data": {
      "image/png": "[encoded data removed]",
      "text/plain": [
       "<Figure size 1080x360 with 1 Axes>"
      ]
     },
     "metadata": {},
     "output_type": "display_data"
    }
   ],
   "source": [
    "plt.figure(figsize = (15,5)) \n",
    "plt.title(\"Most Common Brands\", fontsize=18) \n",
    "plt.bar(Top_brands[\"brand\"], Top_brands[\"counts\"],color= '#99ff99',edgecolor='green', linewidth = 1)\n",
    "plt.xlabel(\"Brand\",fontsize=15) \n",
    "plt.ylabel(\"Count\",fontsize=15) \n",
    "plt.xticks(fontsize=12, rotation=90)\n",
    "plt.yticks(fontsize=12)\n",
    "\n",
    "#for k,v in Top_brands[\"counts\"].items(): \n",
    "        #plt.text(k,v,str(v), fontsize=12,rotation=90,color='k', horizontalalignment='center');"
   ]
  },
  {
   "cell_type": "code",
   "execution_count": 217,
   "id": "0260e213",
   "metadata": {},
   "outputs": [
    {
     "data": {
      "text/plain": [
       "<AxesSubplot:xlabel='country', ylabel='brand'>"
      ]
     },
     "execution_count": 217,
     "metadata": {},
     "output_type": "execute_result"
    },
    {
     "data": {
      "image/png": "[encoded data removed]",
      "text/plain": [
       "<Figure size 1008x576 with 1 Axes>"
      ]
     },
     "metadata": {},
     "output_type": "display_data"
    }
   ],
   "source": [
    "sns.lineplot(data=df, x=\"country\", y=\"brand\") "
   ]
  },
  {
   "cell_type": "code",
   "execution_count": 218,
   "id": "c511e3e2",
   "metadata": {},
   "outputs": [
    {
     "data": {
      "text/html": [
       "<div>\n",
       "<style scoped>\n",
       "    .dataframe tbody tr th:only-of-type {\n",
       "        vertical-align: middle;\n",
       "    }\n",
       "\n",
       "    .dataframe tbody tr th {\n",
       "        vertical-align: top;\n",
       "    }\n",
       "\n",
       "    .dataframe thead th {\n",
       "        text-align: right;\n",
       "    }\n",
       "</style>\n",
       "<table border=\"1\" class=\"dataframe\">\n",
       "  <thead>\n",
       "    <tr style=\"text-align: right;\">\n",
       "      <th></th>\n",
       "      <th>price</th>\n",
       "      <th>engine_capacity</th>\n",
       "      <th>cylinder</th>\n",
       "      <th>horse_power</th>\n",
       "      <th>top_speed</th>\n",
       "      <th>seats</th>\n",
       "    </tr>\n",
       "  </thead>\n",
       "  <tbody>\n",
       "    <tr>\n",
       "      <th>count</th>\n",
       "      <td>6.292000e+03</td>\n",
       "      <td>6289.000000</td>\n",
       "      <td>6292.000000</td>\n",
       "      <td>6292.000000</td>\n",
       "      <td>6292.000000</td>\n",
       "      <td>6292.000000</td>\n",
       "    </tr>\n",
       "    <tr>\n",
       "      <th>mean</th>\n",
       "      <td>2.005875e+05</td>\n",
       "      <td>151.453172</td>\n",
       "      <td>5.231723</td>\n",
       "      <td>289.682454</td>\n",
       "      <td>223.606643</td>\n",
       "      <td>7.548522</td>\n",
       "    </tr>\n",
       "    <tr>\n",
       "      <th>std</th>\n",
       "      <td>4.409022e+05</td>\n",
       "      <td>540.065249</td>\n",
       "      <td>1.822611</td>\n",
       "      <td>179.054198</td>\n",
       "      <td>46.357048</td>\n",
       "      <td>21.773416</td>\n",
       "    </tr>\n",
       "    <tr>\n",
       "      <th>min</th>\n",
       "      <td>2.899000e+03</td>\n",
       "      <td>0.000000</td>\n",
       "      <td>3.000000</td>\n",
       "      <td>12.000000</td>\n",
       "      <td>120.000000</td>\n",
       "      <td>2.000000</td>\n",
       "    </tr>\n",
       "    <tr>\n",
       "      <th>25%</th>\n",
       "      <td>2.660000e+04</td>\n",
       "      <td>20.000000</td>\n",
       "      <td>4.000000</td>\n",
       "      <td>164.000000</td>\n",
       "      <td>188.000000</td>\n",
       "      <td>5.000000</td>\n",
       "    </tr>\n",
       "    <tr>\n",
       "      <th>50%</th>\n",
       "      <td>1.306000e+05</td>\n",
       "      <td>27.000000</td>\n",
       "      <td>4.000000</td>\n",
       "      <td>252.000000</td>\n",
       "      <td>220.000000</td>\n",
       "      <td>5.000000</td>\n",
       "    </tr>\n",
       "    <tr>\n",
       "      <th>75%</th>\n",
       "      <td>2.004551e+05</td>\n",
       "      <td>40.000000</td>\n",
       "      <td>6.000000</td>\n",
       "      <td>367.000000</td>\n",
       "      <td>250.000000</td>\n",
       "      <td>5.000000</td>\n",
       "    </tr>\n",
       "    <tr>\n",
       "      <th>max</th>\n",
       "      <td>1.331480e+07</td>\n",
       "      <td>6752.000000</td>\n",
       "      <td>16.000000</td>\n",
       "      <td>5050.000000</td>\n",
       "      <td>966.000000</td>\n",
       "      <td>260.000000</td>\n",
       "    </tr>\n",
       "  </tbody>\n",
       "</table>\n",
       "</div>"
      ],
      "text/plain": [
       "              price  engine_capacity     cylinder  horse_power    top_speed  \\\n",
       "count  6.292000e+03      6289.000000  6292.000000  6292.000000  6292.000000   \n",
       "mean   2.005875e+05       151.453172     5.231723   289.682454   223.606643   \n",
       "std    4.409022e+05       540.065249     1.822611   179.054198    46.357048   \n",
       "min    2.899000e+03         0.000000     3.000000    12.000000   120.000000   \n",
       "25%    2.660000e+04        20.000000     4.000000   164.000000   188.000000   \n",
       "50%    1.306000e+05        27.000000     4.000000   252.000000   220.000000   \n",
       "75%    2.004551e+05        40.000000     6.000000   367.000000   250.000000   \n",
       "max    1.331480e+07      6752.000000    16.000000  5050.000000   966.000000   \n",
       "\n",
       "             seats  \n",
       "count  6292.000000  \n",
       "mean      7.548522  \n",
       "std      21.773416  \n",
       "min       2.000000  \n",
       "25%       5.000000  \n",
       "50%       5.000000  \n",
       "75%       5.000000  \n",
       "max     260.000000  "
      ]
     },
     "execution_count": 218,
     "metadata": {},
     "output_type": "execute_result"
    }
   ],
   "source": [
    "df.describe()"
   ]
  },
  {
   "cell_type": "markdown",
   "id": "178ebca7",
   "metadata": {},
   "source": [
    "----\n",
    "### Deal With Outliyers "
   ]
  },
  {
   "cell_type": "code",
   "execution_count": 219,
   "id": "e369f87f",
   "metadata": {},
   "outputs": [
    {
     "data": {
      "text/plain": [
       "<AxesSubplot:xlabel='price', ylabel='Density'>"
      ]
     },
     "execution_count": 219,
     "metadata": {},
     "output_type": "execute_result"
    },
    {
     "data": {
      "image/png": "[encoded data removed]",
      "text/plain": [
       "<Figure size 1008x576 with 1 Axes>"
      ]
     },
     "metadata": {},
     "output_type": "display_data"
    }
   ],
   "source": [
    "sns.distplot(df['price'])"
   ]
  },
  {
   "cell_type": "code",
   "execution_count": 220,
   "id": "1e2890cb",
   "metadata": {},
   "outputs": [],
   "source": [
    "q = df['price'].quantile(0.99)\n",
    "df = df[df['price']<q]"
   ]
  },
  {
   "cell_type": "code",
   "execution_count": 221,
   "id": "23fdf35d",
   "metadata": {},
   "outputs": [
    {
     "data": {
      "text/plain": [
       "<AxesSubplot:xlabel='price', ylabel='Density'>"
      ]
     },
     "execution_count": 221,
     "metadata": {},
     "output_type": "execute_result"
    },
    {
     "data": {
      "image/png": "[encoded data removed]",
      "text/plain": [
       "<Figure size 1008x576 with 1 Axes>"
      ]
     },
     "metadata": {},
     "output_type": "display_data"
    }
   ],
   "source": [
    "sns.distplot(df['price'])"
   ]
  },
  {
   "cell_type": "code",
   "execution_count": 222,
   "id": "bfff1f54",
   "metadata": {},
   "outputs": [
    {
     "data": {
      "text/plain": [
       "<AxesSubplot:xlabel='engine_capacity', ylabel='Density'>"
      ]
     },
     "execution_count": 222,
     "metadata": {},
     "output_type": "execute_result"
    },
    {
     "data": {
      "image/png": "[encoded data removed]",
      "text/plain": [
       "<Figure size 1008x576 with 1 Axes>"
      ]
     },
     "metadata": {},
     "output_type": "display_data"
    }
   ],
   "source": [
    "sns.distplot(df['engine_capacity'])"
   ]
  },
  {
   "cell_type": "code",
   "execution_count": 223,
   "id": "9d465bcb",
   "metadata": {},
   "outputs": [],
   "source": [
    "q = df['engine_capacity'].quantile(0.99)\n",
    "df = df[df['engine_capacity']<q]"
   ]
  },
  {
   "cell_type": "code",
   "execution_count": 224,
   "id": "a5ca9b51",
   "metadata": {},
   "outputs": [
    {
     "data": {
      "text/plain": [
       "<AxesSubplot:xlabel='engine_capacity', ylabel='Density'>"
      ]
     },
     "execution_count": 224,
     "metadata": {},
     "output_type": "execute_result"
    },
    {
     "data": {
      "image/png": "[encoded data removed]",
      "text/plain": [
       "<Figure size 1008x576 with 1 Axes>"
      ]
     },
     "metadata": {},
     "output_type": "display_data"
    }
   ],
   "source": [
    "sns.distplot(df['engine_capacity'])"
   ]
  },
  {
   "cell_type": "code",
   "execution_count": 225,
   "id": "63ed1dab",
   "metadata": {},
   "outputs": [
    {
     "data": {
      "text/plain": [
       "<AxesSubplot:xlabel='cylinder', ylabel='Density'>"
      ]
     },
     "execution_count": 225,
     "metadata": {},
     "output_type": "execute_result"
    },
    {
     "data": {
      "image/png": "[encoded data removed]",
      "text/plain": [
       "<Figure size 1008x576 with 1 Axes>"
      ]
     },
     "metadata": {},
     "output_type": "display_data"
    }
   ],
   "source": [
    "sns.distplot(df['cylinder'])"
   ]
  },
  {
   "cell_type": "code",
   "execution_count": 226,
   "id": "b5705bbd",
   "metadata": {},
   "outputs": [],
   "source": [
    "q = df['cylinder'].quantile(0.99)\n",
    "df = df[df['cylinder']<q]"
   ]
  },
  {
   "cell_type": "code",
   "execution_count": 227,
   "id": "078b717b",
   "metadata": {},
   "outputs": [
    {
     "data": {
      "text/plain": [
       "<AxesSubplot:xlabel='cylinder', ylabel='Density'>"
      ]
     },
     "execution_count": 227,
     "metadata": {},
     "output_type": "execute_result"
    },
    {
     "data": {
      "image/png": "[encoded data removed]",
      "text/plain": [
       "<Figure size 1008x576 with 1 Axes>"
      ]
     },
     "metadata": {},
     "output_type": "display_data"
    }
   ],
   "source": [
    "sns.distplot(df['cylinder'])"
   ]
  },
  {
   "cell_type": "code",
   "execution_count": 228,
   "id": "90610f1a",
   "metadata": {},
   "outputs": [
    {
     "data": {
      "text/plain": [
       "<AxesSubplot:xlabel='horse_power', ylabel='Density'>"
      ]
     },
     "execution_count": 228,
     "metadata": {},
     "output_type": "execute_result"
    },
    {
     "data": {
      "image/png": "[encoded data removed]",
      "text/plain": [
       "<Figure size 1008x576 with 1 Axes>"
      ]
     },
     "metadata": {},
     "output_type": "display_data"
    }
   ],
   "source": [
    "sns.distplot(df['horse_power'])"
   ]
  },
  {
   "cell_type": "code",
   "execution_count": 229,
   "id": "65dcc3c1",
   "metadata": {},
   "outputs": [],
   "source": [
    "q = df['horse_power'].quantile(0.99)\n",
    "df = df[df['horse_power']<q]"
   ]
  },
  {
   "cell_type": "code",
   "execution_count": 230,
   "id": "4733d146",
   "metadata": {},
   "outputs": [
    {
     "data": {
      "text/plain": [
       "<AxesSubplot:xlabel='horse_power', ylabel='Density'>"
      ]
     },
     "execution_count": 230,
     "metadata": {},
     "output_type": "execute_result"
    },
    {
     "data": {
      "image/png": "[encoded data removed]",
      "text/plain": [
       "<Figure size 1008x576 with 1 Axes>"
      ]
     },
     "metadata": {},
     "output_type": "display_data"
    }
   ],
   "source": [
    "sns.distplot(df['horse_power'])"
   ]
  },
  {
   "cell_type": "code",
   "execution_count": 231,
   "id": "08303820",
   "metadata": {},
   "outputs": [
    {
     "data": {
      "text/plain": [
       "<AxesSubplot:xlabel='top_speed', ylabel='Density'>"
      ]
     },
     "execution_count": 231,
     "metadata": {},
     "output_type": "execute_result"
    },
    {
     "data": {
      "image/png": "[encoded data removed]",
      "text/plain": [
       "<Figure size 1008x576 with 1 Axes>"
      ]
     },
     "metadata": {},
     "output_type": "display_data"
    }
   ],
   "source": [
    "sns.distplot(df['top_speed'])  "
   ]
  },
  {
   "cell_type": "code",
   "execution_count": 232,
   "id": "4ffc6b08",
   "metadata": {},
   "outputs": [],
   "source": [
    "q = df['top_speed'].quantile(0.99)\n",
    "df = df[df['top_speed']<q]"
   ]
  },
  {
   "cell_type": "code",
   "execution_count": 233,
   "id": "9542b627",
   "metadata": {},
   "outputs": [
    {
     "data": {
      "text/plain": [
       "<AxesSubplot:xlabel='top_speed', ylabel='Density'>"
      ]
     },
     "execution_count": 233,
     "metadata": {},
     "output_type": "execute_result"
    },
    {
     "data": {
      "image/png": "[encoded data removed]",
      "text/plain": [
       "<Figure size 1008x576 with 1 Axes>"
      ]
     },
     "metadata": {},
     "output_type": "display_data"
    }
   ],
   "source": [
    "sns.distplot(df['top_speed'])  "
   ]
  },
  {
   "cell_type": "code",
   "execution_count": 234,
   "id": "96fdba58",
   "metadata": {},
   "outputs": [
    {
     "data": {
      "text/plain": [
       "<AxesSubplot:xlabel='seats', ylabel='Density'>"
      ]
     },
     "execution_count": 234,
     "metadata": {},
     "output_type": "execute_result"
    },
    {
     "data": {
      "image/png": "[encoded data removed]",
      "text/plain": [
       "<Figure size 1008x576 with 1 Axes>"
      ]
     },
     "metadata": {},
     "output_type": "display_data"
    }
   ],
   "source": [
    " sns.distplot(df['seats'])   "
   ]
  },
  {
   "cell_type": "code",
   "execution_count": 235,
   "id": "b0466e08",
   "metadata": {},
   "outputs": [],
   "source": [
    "q = df['seats'].quantile(.99)\n",
    "df = df[df['seats']<q]"
   ]
  },
  {
   "cell_type": "code",
   "execution_count": 236,
   "id": "29a489bd",
   "metadata": {},
   "outputs": [
    {
     "data": {
      "text/plain": [
       "<AxesSubplot:xlabel='seats', ylabel='Density'>"
      ]
     },
     "execution_count": 236,
     "metadata": {},
     "output_type": "execute_result"
    },
    {
     "data": {
      "image/png": "[encoded data removed]",
      "text/plain": [
       "<Figure size 1008x576 with 1 Axes>"
      ]
     },
     "metadata": {},
     "output_type": "display_data"
    }
   ],
   "source": [
    " sns.distplot(df['seats'])   "
   ]
  },
  {
   "cell_type": "code",
   "execution_count": 237,
   "id": "13a6b0f2",
   "metadata": {},
   "outputs": [
    {
     "data": {
      "text/html": [
       "<div>\n",
       "<style scoped>\n",
       "    .dataframe tbody tr th:only-of-type {\n",
       "        vertical-align: middle;\n",
       "    }\n",
       "\n",
       "    .dataframe tbody tr th {\n",
       "        vertical-align: top;\n",
       "    }\n",
       "\n",
       "    .dataframe thead th {\n",
       "        text-align: right;\n",
       "    }\n",
       "</style>\n",
       "<table border=\"1\" class=\"dataframe\">\n",
       "  <thead>\n",
       "    <tr style=\"text-align: right;\">\n",
       "      <th></th>\n",
       "      <th>price</th>\n",
       "      <th>engine_capacity</th>\n",
       "      <th>cylinder</th>\n",
       "      <th>horse_power</th>\n",
       "      <th>top_speed</th>\n",
       "      <th>seats</th>\n",
       "    </tr>\n",
       "  </thead>\n",
       "  <tbody>\n",
       "    <tr>\n",
       "      <th>count</th>\n",
       "      <td>5.835000e+03</td>\n",
       "      <td>5835.000000</td>\n",
       "      <td>5835.000000</td>\n",
       "      <td>5835.000000</td>\n",
       "      <td>5835.000000</td>\n",
       "      <td>5835.00000</td>\n",
       "    </tr>\n",
       "    <tr>\n",
       "      <th>mean</th>\n",
       "      <td>1.554100e+05</td>\n",
       "      <td>99.402571</td>\n",
       "      <td>5.015596</td>\n",
       "      <td>270.421937</td>\n",
       "      <td>218.770009</td>\n",
       "      <td>5.69635</td>\n",
       "    </tr>\n",
       "    <tr>\n",
       "      <th>std</th>\n",
       "      <td>1.724503e+05</td>\n",
       "      <td>324.787140</td>\n",
       "      <td>1.473197</td>\n",
       "      <td>129.835773</td>\n",
       "      <td>38.174723</td>\n",
       "      <td>7.97370</td>\n",
       "    </tr>\n",
       "    <tr>\n",
       "      <th>min</th>\n",
       "      <td>2.899000e+03</td>\n",
       "      <td>0.000000</td>\n",
       "      <td>3.000000</td>\n",
       "      <td>65.000000</td>\n",
       "      <td>120.000000</td>\n",
       "      <td>2.00000</td>\n",
       "    </tr>\n",
       "    <tr>\n",
       "      <th>25%</th>\n",
       "      <td>2.349750e+04</td>\n",
       "      <td>20.000000</td>\n",
       "      <td>4.000000</td>\n",
       "      <td>164.000000</td>\n",
       "      <td>185.000000</td>\n",
       "      <td>5.00000</td>\n",
       "    </tr>\n",
       "    <tr>\n",
       "      <th>50%</th>\n",
       "      <td>1.146400e+05</td>\n",
       "      <td>25.000000</td>\n",
       "      <td>4.000000</td>\n",
       "      <td>250.000000</td>\n",
       "      <td>212.000000</td>\n",
       "      <td>5.00000</td>\n",
       "    </tr>\n",
       "    <tr>\n",
       "      <th>75%</th>\n",
       "      <td>2.004551e+05</td>\n",
       "      <td>36.000000</td>\n",
       "      <td>6.000000</td>\n",
       "      <td>355.000000</td>\n",
       "      <td>250.000000</td>\n",
       "      <td>5.00000</td>\n",
       "    </tr>\n",
       "    <tr>\n",
       "      <th>max</th>\n",
       "      <td>1.500000e+06</td>\n",
       "      <td>1997.000000</td>\n",
       "      <td>10.000000</td>\n",
       "      <td>650.000000</td>\n",
       "      <td>322.000000</td>\n",
       "      <td>156.00000</td>\n",
       "    </tr>\n",
       "  </tbody>\n",
       "</table>\n",
       "</div>"
      ],
      "text/plain": [
       "              price  engine_capacity     cylinder  horse_power    top_speed  \\\n",
       "count  5.835000e+03      5835.000000  5835.000000  5835.000000  5835.000000   \n",
       "mean   1.554100e+05        99.402571     5.015596   270.421937   218.770009   \n",
       "std    1.724503e+05       324.787140     1.473197   129.835773    38.174723   \n",
       "min    2.899000e+03         0.000000     3.000000    65.000000   120.000000   \n",
       "25%    2.349750e+04        20.000000     4.000000   164.000000   185.000000   \n",
       "50%    1.146400e+05        25.000000     4.000000   250.000000   212.000000   \n",
       "75%    2.004551e+05        36.000000     6.000000   355.000000   250.000000   \n",
       "max    1.500000e+06      1997.000000    10.000000   650.000000   322.000000   \n",
       "\n",
       "            seats  \n",
       "count  5835.00000  \n",
       "mean      5.69635  \n",
       "std       7.97370  \n",
       "min       2.00000  \n",
       "25%       5.00000  \n",
       "50%       5.00000  \n",
       "75%       5.00000  \n",
       "max     156.00000  "
      ]
     },
     "execution_count": 237,
     "metadata": {},
     "output_type": "execute_result"
    }
   ],
   "source": [
    "df.describe()"
   ]
  },
  {
   "cell_type": "markdown",
   "id": "ea67abd2",
   "metadata": {},
   "source": [
    "------\n",
    "## Linear Regression "
   ]
  },
  {
   "cell_type": "code",
   "execution_count": 238,
   "id": "f64b0555",
   "metadata": {},
   "outputs": [
    {
     "data": {
      "text/html": [
       "<div>\n",
       "<style scoped>\n",
       "    .dataframe tbody tr th:only-of-type {\n",
       "        vertical-align: middle;\n",
       "    }\n",
       "\n",
       "    .dataframe tbody tr th {\n",
       "        vertical-align: top;\n",
       "    }\n",
       "\n",
       "    .dataframe thead th {\n",
       "        text-align: right;\n",
       "    }\n",
       "</style>\n",
       "<table border=\"1\" class=\"dataframe\">\n",
       "  <thead>\n",
       "    <tr style=\"text-align: right;\">\n",
       "      <th></th>\n",
       "      <th>price</th>\n",
       "      <th>engine_capacity</th>\n",
       "      <th>cylinder</th>\n",
       "      <th>horse_power</th>\n",
       "      <th>top_speed</th>\n",
       "      <th>seats</th>\n",
       "      <th>car name_Abarth 595 2021 1.4T Competizione (Convertible)</th>\n",
       "      <th>car name_Abarth 595 2021 1.4T Competizione (Hard-Top)</th>\n",
       "      <th>car name_Abarth 695 2021 1.4T Rivale (Convertible)</th>\n",
       "      <th>car name_Abarth 695 2021 1.4T Rivale (Hard-Top)</th>\n",
       "      <th>...</th>\n",
       "      <th>brand_volkswagen</th>\n",
       "      <th>brand_volvo</th>\n",
       "      <th>brand_zna</th>\n",
       "      <th>brand_zotye</th>\n",
       "      <th>country_egypt</th>\n",
       "      <th>country_ksa</th>\n",
       "      <th>country_kuwait</th>\n",
       "      <th>country_oman</th>\n",
       "      <th>country_qatar</th>\n",
       "      <th>country_uae</th>\n",
       "    </tr>\n",
       "  </thead>\n",
       "  <tbody>\n",
       "    <tr>\n",
       "      <th>0</th>\n",
       "      <td>200455.127134</td>\n",
       "      <td>0.0</td>\n",
       "      <td>4.0</td>\n",
       "      <td>150.0</td>\n",
       "      <td>250.0</td>\n",
       "      <td>150.0</td>\n",
       "      <td>0</td>\n",
       "      <td>0</td>\n",
       "      <td>0</td>\n",
       "      <td>0</td>\n",
       "      <td>...</td>\n",
       "      <td>0</td>\n",
       "      <td>0</td>\n",
       "      <td>0</td>\n",
       "      <td>0</td>\n",
       "      <td>0</td>\n",
       "      <td>1</td>\n",
       "      <td>0</td>\n",
       "      <td>0</td>\n",
       "      <td>0</td>\n",
       "      <td>0</td>\n",
       "    </tr>\n",
       "    <tr>\n",
       "      <th>1</th>\n",
       "      <td>140575.000000</td>\n",
       "      <td>20.0</td>\n",
       "      <td>4.0</td>\n",
       "      <td>180.0</td>\n",
       "      <td>250.0</td>\n",
       "      <td>8.8</td>\n",
       "      <td>0</td>\n",
       "      <td>0</td>\n",
       "      <td>0</td>\n",
       "      <td>0</td>\n",
       "      <td>...</td>\n",
       "      <td>0</td>\n",
       "      <td>0</td>\n",
       "      <td>0</td>\n",
       "      <td>0</td>\n",
       "      <td>0</td>\n",
       "      <td>1</td>\n",
       "      <td>0</td>\n",
       "      <td>0</td>\n",
       "      <td>0</td>\n",
       "      <td>0</td>\n",
       "    </tr>\n",
       "    <tr>\n",
       "      <th>2</th>\n",
       "      <td>98785.000000</td>\n",
       "      <td>15.0</td>\n",
       "      <td>4.0</td>\n",
       "      <td>102.0</td>\n",
       "      <td>145.0</td>\n",
       "      <td>4.0</td>\n",
       "      <td>0</td>\n",
       "      <td>0</td>\n",
       "      <td>0</td>\n",
       "      <td>0</td>\n",
       "      <td>...</td>\n",
       "      <td>0</td>\n",
       "      <td>0</td>\n",
       "      <td>0</td>\n",
       "      <td>0</td>\n",
       "      <td>0</td>\n",
       "      <td>1</td>\n",
       "      <td>0</td>\n",
       "      <td>0</td>\n",
       "      <td>0</td>\n",
       "      <td>0</td>\n",
       "    </tr>\n",
       "    <tr>\n",
       "      <th>3</th>\n",
       "      <td>198000.000000</td>\n",
       "      <td>23.0</td>\n",
       "      <td>4.0</td>\n",
       "      <td>420.0</td>\n",
       "      <td>250.0</td>\n",
       "      <td>7.5</td>\n",
       "      <td>0</td>\n",
       "      <td>0</td>\n",
       "      <td>0</td>\n",
       "      <td>0</td>\n",
       "      <td>...</td>\n",
       "      <td>0</td>\n",
       "      <td>0</td>\n",
       "      <td>0</td>\n",
       "      <td>0</td>\n",
       "      <td>0</td>\n",
       "      <td>1</td>\n",
       "      <td>0</td>\n",
       "      <td>0</td>\n",
       "      <td>0</td>\n",
       "      <td>0</td>\n",
       "    </tr>\n",
       "    <tr>\n",
       "      <th>4</th>\n",
       "      <td>200455.127134</td>\n",
       "      <td>18.0</td>\n",
       "      <td>4.0</td>\n",
       "      <td>140.0</td>\n",
       "      <td>190.0</td>\n",
       "      <td>5.0</td>\n",
       "      <td>0</td>\n",
       "      <td>0</td>\n",
       "      <td>0</td>\n",
       "      <td>0</td>\n",
       "      <td>...</td>\n",
       "      <td>0</td>\n",
       "      <td>0</td>\n",
       "      <td>0</td>\n",
       "      <td>0</td>\n",
       "      <td>0</td>\n",
       "      <td>1</td>\n",
       "      <td>0</td>\n",
       "      <td>0</td>\n",
       "      <td>0</td>\n",
       "      <td>0</td>\n",
       "    </tr>\n",
       "  </tbody>\n",
       "</table>\n",
       "<p>5 rows × 2514 columns</p>\n",
       "</div>"
      ],
      "text/plain": [
       "           price  engine_capacity  cylinder  horse_power  top_speed  seats  \\\n",
       "0  200455.127134              0.0       4.0        150.0      250.0  150.0   \n",
       "1  140575.000000             20.0       4.0        180.0      250.0    8.8   \n",
       "2   98785.000000             15.0       4.0        102.0      145.0    4.0   \n",
       "3  198000.000000             23.0       4.0        420.0      250.0    7.5   \n",
       "4  200455.127134             18.0       4.0        140.0      190.0    5.0   \n",
       "\n",
       "   car name_Abarth 595 2021 1.4T Competizione (Convertible)  \\\n",
       "0                                                  0          \n",
       "1                                                  0          \n",
       "2                                                  0          \n",
       "3                                                  0          \n",
       "4                                                  0          \n",
       "\n",
       "   car name_Abarth 595 2021 1.4T Competizione (Hard-Top)  \\\n",
       "0                                                  0       \n",
       "1                                                  0       \n",
       "2                                                  0       \n",
       "3                                                  0       \n",
       "4                                                  0       \n",
       "\n",
       "   car name_Abarth 695 2021 1.4T Rivale (Convertible)  \\\n",
       "0                                                  0    \n",
       "1                                                  0    \n",
       "2                                                  0    \n",
       "3                                                  0    \n",
       "4                                                  0    \n",
       "\n",
       "   car name_Abarth 695 2021 1.4T Rivale (Hard-Top)  ...  brand_volkswagen  \\\n",
       "0                                                0  ...                 0   \n",
       "1                                                0  ...                 0   \n",
       "2                                                0  ...                 0   \n",
       "3                                                0  ...                 0   \n",
       "4                                                0  ...                 0   \n",
       "\n",
       "   brand_volvo  brand_zna  brand_zotye  country_egypt  country_ksa  \\\n",
       "0            0          0            0              0            1   \n",
       "1            0          0            0              0            1   \n",
       "2            0          0            0              0            1   \n",
       "3            0          0            0              0            1   \n",
       "4            0          0            0              0            1   \n",
       "\n",
       "   country_kuwait  country_oman  country_qatar  country_uae  \n",
       "0               0             0              0            0  \n",
       "1               0             0              0            0  \n",
       "2               0             0              0            0  \n",
       "3               0             0              0            0  \n",
       "4               0             0              0            0  \n",
       "\n",
       "[5 rows x 2514 columns]"
      ]
     },
     "execution_count": 238,
     "metadata": {},
     "output_type": "execute_result"
    }
   ],
   "source": [
    "df = pd.get_dummies(df, prefix=None,drop_first=True)\n",
    "df.head()"
   ]
  },
  {
   "cell_type": "code",
   "execution_count": 239,
   "id": "db1342d1",
   "metadata": {},
   "outputs": [
    {
     "data": {
      "text/html": [
       "<div>\n",
       "<style scoped>\n",
       "    .dataframe tbody tr th:only-of-type {\n",
       "        vertical-align: middle;\n",
       "    }\n",
       "\n",
       "    .dataframe tbody tr th {\n",
       "        vertical-align: top;\n",
       "    }\n",
       "\n",
       "    .dataframe thead th {\n",
       "        text-align: right;\n",
       "    }\n",
       "</style>\n",
       "<table border=\"1\" class=\"dataframe\">\n",
       "  <thead>\n",
       "    <tr style=\"text-align: right;\">\n",
       "      <th></th>\n",
       "      <th>price</th>\n",
       "      <th>engine_capacity</th>\n",
       "      <th>cylinder</th>\n",
       "      <th>horse_power</th>\n",
       "      <th>top_speed</th>\n",
       "      <th>seats</th>\n",
       "      <th>car name_Abarth 595 2021 1.4T Competizione (Convertible)</th>\n",
       "      <th>car name_Abarth 595 2021 1.4T Competizione (Hard-Top)</th>\n",
       "      <th>car name_Abarth 695 2021 1.4T Rivale (Convertible)</th>\n",
       "      <th>car name_Abarth 695 2021 1.4T Rivale (Hard-Top)</th>\n",
       "      <th>...</th>\n",
       "      <th>brand_volkswagen</th>\n",
       "      <th>brand_volvo</th>\n",
       "      <th>brand_zna</th>\n",
       "      <th>brand_zotye</th>\n",
       "      <th>country_egypt</th>\n",
       "      <th>country_ksa</th>\n",
       "      <th>country_kuwait</th>\n",
       "      <th>country_oman</th>\n",
       "      <th>country_qatar</th>\n",
       "      <th>country_uae</th>\n",
       "    </tr>\n",
       "  </thead>\n",
       "  <tbody>\n",
       "    <tr>\n",
       "      <th>0</th>\n",
       "      <td>200455.127134</td>\n",
       "      <td>0.0</td>\n",
       "      <td>4.0</td>\n",
       "      <td>150.0</td>\n",
       "      <td>250.0</td>\n",
       "      <td>150.0</td>\n",
       "      <td>0</td>\n",
       "      <td>0</td>\n",
       "      <td>0</td>\n",
       "      <td>0</td>\n",
       "      <td>...</td>\n",
       "      <td>0</td>\n",
       "      <td>0</td>\n",
       "      <td>0</td>\n",
       "      <td>0</td>\n",
       "      <td>0</td>\n",
       "      <td>1</td>\n",
       "      <td>0</td>\n",
       "      <td>0</td>\n",
       "      <td>0</td>\n",
       "      <td>0</td>\n",
       "    </tr>\n",
       "    <tr>\n",
       "      <th>1</th>\n",
       "      <td>140575.000000</td>\n",
       "      <td>20.0</td>\n",
       "      <td>4.0</td>\n",
       "      <td>180.0</td>\n",
       "      <td>250.0</td>\n",
       "      <td>8.8</td>\n",
       "      <td>0</td>\n",
       "      <td>0</td>\n",
       "      <td>0</td>\n",
       "      <td>0</td>\n",
       "      <td>...</td>\n",
       "      <td>0</td>\n",
       "      <td>0</td>\n",
       "      <td>0</td>\n",
       "      <td>0</td>\n",
       "      <td>0</td>\n",
       "      <td>1</td>\n",
       "      <td>0</td>\n",
       "      <td>0</td>\n",
       "      <td>0</td>\n",
       "      <td>0</td>\n",
       "    </tr>\n",
       "    <tr>\n",
       "      <th>2</th>\n",
       "      <td>98785.000000</td>\n",
       "      <td>15.0</td>\n",
       "      <td>4.0</td>\n",
       "      <td>102.0</td>\n",
       "      <td>145.0</td>\n",
       "      <td>4.0</td>\n",
       "      <td>0</td>\n",
       "      <td>0</td>\n",
       "      <td>0</td>\n",
       "      <td>0</td>\n",
       "      <td>...</td>\n",
       "      <td>0</td>\n",
       "      <td>0</td>\n",
       "      <td>0</td>\n",
       "      <td>0</td>\n",
       "      <td>0</td>\n",
       "      <td>1</td>\n",
       "      <td>0</td>\n",
       "      <td>0</td>\n",
       "      <td>0</td>\n",
       "      <td>0</td>\n",
       "    </tr>\n",
       "    <tr>\n",
       "      <th>3</th>\n",
       "      <td>198000.000000</td>\n",
       "      <td>23.0</td>\n",
       "      <td>4.0</td>\n",
       "      <td>420.0</td>\n",
       "      <td>250.0</td>\n",
       "      <td>7.5</td>\n",
       "      <td>0</td>\n",
       "      <td>0</td>\n",
       "      <td>0</td>\n",
       "      <td>0</td>\n",
       "      <td>...</td>\n",
       "      <td>0</td>\n",
       "      <td>0</td>\n",
       "      <td>0</td>\n",
       "      <td>0</td>\n",
       "      <td>0</td>\n",
       "      <td>1</td>\n",
       "      <td>0</td>\n",
       "      <td>0</td>\n",
       "      <td>0</td>\n",
       "      <td>0</td>\n",
       "    </tr>\n",
       "    <tr>\n",
       "      <th>4</th>\n",
       "      <td>200455.127134</td>\n",
       "      <td>18.0</td>\n",
       "      <td>4.0</td>\n",
       "      <td>140.0</td>\n",
       "      <td>190.0</td>\n",
       "      <td>5.0</td>\n",
       "      <td>0</td>\n",
       "      <td>0</td>\n",
       "      <td>0</td>\n",
       "      <td>0</td>\n",
       "      <td>...</td>\n",
       "      <td>0</td>\n",
       "      <td>0</td>\n",
       "      <td>0</td>\n",
       "      <td>0</td>\n",
       "      <td>0</td>\n",
       "      <td>1</td>\n",
       "      <td>0</td>\n",
       "      <td>0</td>\n",
       "      <td>0</td>\n",
       "      <td>0</td>\n",
       "    </tr>\n",
       "  </tbody>\n",
       "</table>\n",
       "<p>5 rows × 2514 columns</p>\n",
       "</div>"
      ],
      "text/plain": [
       "           price  engine_capacity  cylinder  horse_power  top_speed  seats  \\\n",
       "0  200455.127134              0.0       4.0        150.0      250.0  150.0   \n",
       "1  140575.000000             20.0       4.0        180.0      250.0    8.8   \n",
       "2   98785.000000             15.0       4.0        102.0      145.0    4.0   \n",
       "3  198000.000000             23.0       4.0        420.0      250.0    7.5   \n",
       "4  200455.127134             18.0       4.0        140.0      190.0    5.0   \n",
       "\n",
       "   car name_Abarth 595 2021 1.4T Competizione (Convertible)  \\\n",
       "0                                                  0          \n",
       "1                                                  0          \n",
       "2                                                  0          \n",
       "3                                                  0          \n",
       "4                                                  0          \n",
       "\n",
       "   car name_Abarth 595 2021 1.4T Competizione (Hard-Top)  \\\n",
       "0                                                  0       \n",
       "1                                                  0       \n",
       "2                                                  0       \n",
       "3                                                  0       \n",
       "4                                                  0       \n",
       "\n",
       "   car name_Abarth 695 2021 1.4T Rivale (Convertible)  \\\n",
       "0                                                  0    \n",
       "1                                                  0    \n",
       "2                                                  0    \n",
       "3                                                  0    \n",
       "4                                                  0    \n",
       "\n",
       "   car name_Abarth 695 2021 1.4T Rivale (Hard-Top)  ...  brand_volkswagen  \\\n",
       "0                                                0  ...                 0   \n",
       "1                                                0  ...                 0   \n",
       "2                                                0  ...                 0   \n",
       "3                                                0  ...                 0   \n",
       "4                                                0  ...                 0   \n",
       "\n",
       "   brand_volvo  brand_zna  brand_zotye  country_egypt  country_ksa  \\\n",
       "0            0          0            0              0            1   \n",
       "1            0          0            0              0            1   \n",
       "2            0          0            0              0            1   \n",
       "3            0          0            0              0            1   \n",
       "4            0          0            0              0            1   \n",
       "\n",
       "   country_kuwait  country_oman  country_qatar  country_uae  \n",
       "0               0             0              0            0  \n",
       "1               0             0              0            0  \n",
       "2               0             0              0            0  \n",
       "3               0             0              0            0  \n",
       "4               0             0              0            0  \n",
       "\n",
       "[5 rows x 2514 columns]"
      ]
     },
     "execution_count": 239,
     "metadata": {},
     "output_type": "execute_result"
    }
   ],
   "source": [
    "df.head()"
   ]
  },
  {
   "cell_type": "markdown",
   "id": "956c5b8c",
   "metadata": {},
   "source": [
    "-----\n",
    "### Define x , y"
   ]
  },
  {
   "cell_type": "code",
   "execution_count": 240,
   "id": "4766c1ab",
   "metadata": {},
   "outputs": [],
   "source": [
    "x = df.drop(['price'],axis=1).values\n",
    "y = df['price'].values"
   ]
  },
  {
   "cell_type": "code",
   "execution_count": 241,
   "id": "74a5ae3c",
   "metadata": {},
   "outputs": [
    {
     "data": {
      "text/plain": [
       "array([[  0.,   4., 150., ...,   0.,   0.,   0.],\n",
       "       [ 20.,   4., 180., ...,   0.,   0.,   0.],\n",
       "       [ 15.,   4., 102., ...,   0.,   0.,   0.],\n",
       "       ...,\n",
       "       [ 68.,   8., 505., ...,   0.,   0.,   1.],\n",
       "       [ 68.,   8., 505., ...,   0.,   0.,   1.],\n",
       "       [ 68.,   8., 530., ...,   0.,   0.,   1.]])"
      ]
     },
     "execution_count": 241,
     "metadata": {},
     "output_type": "execute_result"
    }
   ],
   "source": [
    "x"
   ]
  },
  {
   "cell_type": "code",
   "execution_count": 242,
   "id": "3e813659",
   "metadata": {},
   "outputs": [
    {
     "data": {
      "text/plain": [
       "array([200455.12713396, 140575.        ,  98785.        , ...,\n",
       "       200455.12713396, 200455.12713396, 200455.12713396])"
      ]
     },
     "execution_count": 242,
     "metadata": {},
     "output_type": "execute_result"
    }
   ],
   "source": [
    "y"
   ]
  },
  {
   "cell_type": "code",
   "execution_count": 243,
   "id": "feee2284",
   "metadata": {},
   "outputs": [
    {
     "data": {
      "text/plain": [
       "<seaborn.axisgrid.PairGrid at 0x23226793700>"
      ]
     },
     "execution_count": 243,
     "metadata": {},
     "output_type": "execute_result"
    },
    {
     "data": {
      "image/png": "[encoded data removed]",
      "text/plain": [
       "<Figure size 720x180 with 4 Axes>"
      ]
     },
     "metadata": {},
     "output_type": "display_data"
    }
   ],
   "source": [
    "sns.pairplot(df,x_vars=['cylinder','horse_power','top_speed','seats'],y_vars='price')"
   ]
  },
  {
   "cell_type": "markdown",
   "id": "3b3745be",
   "metadata": {},
   "source": [
    "-----\n",
    "### Split Dataset [training - test]"
   ]
  },
  {
   "cell_type": "code",
   "execution_count": 244,
   "id": "b6321474",
   "metadata": {},
   "outputs": [],
   "source": [
    "# divid into train and test\n",
    "x_train , x_test , y_train , y_test = train_test_split(x,y,test_size=.2,random_state=0)"
   ]
  },
  {
   "cell_type": "code",
   "execution_count": 245,
   "id": "6c298998",
   "metadata": {},
   "outputs": [],
   "source": [
    "# Scalers \n",
    "from sklearn.preprocessing import StandardScaler\n",
    "scaler = StandardScaler()\n",
    "\n",
    "X_train_scaled = scaler.fit_transform(x_train)\n",
    "X_test_scaled = scaler.transform(x_test)"
   ]
  },
  {
   "cell_type": "markdown",
   "id": "01175375",
   "metadata": {},
   "source": [
    "---\n",
    "### Train Model"
   ]
  },
  {
   "cell_type": "code",
   "execution_count": 246,
   "id": "64816a14",
   "metadata": {},
   "outputs": [
    {
     "data": {
      "text/plain": [
       "LinearRegression()"
      ]
     },
     "execution_count": 246,
     "metadata": {},
     "output_type": "execute_result"
    }
   ],
   "source": [
    "my_model = LinearRegression()\n",
    "my_model.fit(x_train , y_train)"
   ]
  },
  {
   "cell_type": "code",
   "execution_count": 247,
   "id": "617348d7",
   "metadata": {},
   "outputs": [
    {
     "data": {
      "text/plain": [
       "array([ 1.08169373e+03,  3.49351536e+11, -8.49038533e+04, ...,\n",
       "        1.41611719e+03,  1.71057102e+05,  1.64658656e+05])"
      ]
     },
     "execution_count": 247,
     "metadata": {},
     "output_type": "execute_result"
    }
   ],
   "source": [
    "my_model.coef_"
   ]
  },
  {
   "cell_type": "code",
   "execution_count": 248,
   "id": "6930facd",
   "metadata": {},
   "outputs": [
    {
     "data": {
      "text/plain": [
       "7686753418200.406"
      ]
     },
     "execution_count": 248,
     "metadata": {},
     "output_type": "execute_result"
    }
   ],
   "source": [
    "my_model.intercept_"
   ]
  },
  {
   "cell_type": "markdown",
   "id": "e1e77251",
   "metadata": {},
   "source": [
    "------\n",
    "### Predict Value"
   ]
  },
  {
   "cell_type": "code",
   "execution_count": 249,
   "id": "009e55e0",
   "metadata": {},
   "outputs": [
    {
     "data": {
      "text/plain": [
       "array([ 4.23699277e+04,  2.76144002e+05,  1.46084229e+05,  2.17597370e+05,\n",
       "       -4.01860484e+12])"
      ]
     },
     "execution_count": 249,
     "metadata": {},
     "output_type": "execute_result"
    }
   ],
   "source": [
    "# predicated Value\n",
    "y_predict = my_model.predict(x_test[:5])\n",
    "y_predict"
   ]
  },
  {
   "cell_type": "code",
   "execution_count": 250,
   "id": "610584c1",
   "metadata": {},
   "outputs": [
    {
     "data": {
      "text/plain": [
       "array([ 23000.        , 200455.12713396, 200455.12713396, 200455.12713396,\n",
       "       414900.        ])"
      ]
     },
     "execution_count": 250,
     "metadata": {},
     "output_type": "execute_result"
    }
   ],
   "source": [
    "# real value\n",
    "y_test[:5]"
   ]
  },
  {
   "cell_type": "markdown",
   "id": "7b49f7c3",
   "metadata": {},
   "source": [
    "-----\n",
    "### Regression Score"
   ]
  },
  {
   "cell_type": "code",
   "execution_count": 251,
   "id": "53cd5a1e",
   "metadata": {},
   "outputs": [
    {
     "name": "stdout",
     "output_type": "stream",
     "text": [
      "0.822252194231863\n",
      "-1.3977746915132244e+16\n"
     ]
    }
   ],
   "source": [
    "train_data_score = my_model.score(x_train , y_train) \n",
    "test_data_score = my_model.score(x_test,y_test)\n",
    "\n",
    "print(train_data_score)\n",
    "print(test_data_score)"
   ]
  },
  {
   "cell_type": "markdown",
   "id": "2a520fdc",
   "metadata": {},
   "source": [
    "----\n",
    "## Evaluate "
   ]
  },
  {
   "cell_type": "code",
   "execution_count": 252,
   "id": "0edb44dd",
   "metadata": {},
   "outputs": [
    {
     "data": {
      "text/plain": [
       "-1.3977746915132244e+16"
      ]
     },
     "execution_count": 252,
     "metadata": {},
     "output_type": "execute_result"
    }
   ],
   "source": [
    "from sklearn.metrics import r2_score\n",
    "y_pred = my_model.predict(x_test)\n",
    "r2_score(y_test , y_pred)"
   ]
  },
  {
   "cell_type": "code",
   "execution_count": 253,
   "id": "d61b078f",
   "metadata": {},
   "outputs": [
    {
     "data": {
      "text/plain": [
       "Text(0, 0.5, 'Predicted Data')"
      ]
     },
     "execution_count": 253,
     "metadata": {},
     "output_type": "execute_result"
    },
    {
     "data": {
      "image/png": "[encoded data removed]",
      "text/plain": [
       "<Figure size 1008x576 with 1 Axes>"
      ]
     },
     "metadata": {},
     "output_type": "display_data"
    }
   ],
   "source": [
    "plt.scatter(y_test,y_pred)\n",
    "plt.xlabel('Actual Data')\n",
    "plt.ylabel('Predicted Data')"
   ]
  },
  {
   "cell_type": "markdown",
   "id": "9842b0a7",
   "metadata": {},
   "source": [
    "---------\n",
    "## Decision Tree"
   ]
  },
  {
   "cell_type": "code",
   "execution_count": 254,
   "id": "cdef51b2",
   "metadata": {},
   "outputs": [
    {
     "data": {
      "text/plain": [
       "DecisionTreeRegressor(max_depth=4)"
      ]
     },
     "execution_count": 254,
     "metadata": {},
     "output_type": "execute_result"
    }
   ],
   "source": [
    "from sklearn.tree import DecisionTreeRegressor\n",
    "DT_model = DecisionTreeRegressor(max_depth=4)\n",
    "DT_model.fit(x_train,y_train)"
   ]
  },
  {
   "cell_type": "code",
   "execution_count": 255,
   "id": "aa1dea7a",
   "metadata": {},
   "outputs": [
    {
     "data": {
      "text/plain": [
       "array([ 39717.23549309, 129533.8170184 ,  32728.56691055, ...,\n",
       "       129533.8170184 , 328073.70999432, 129533.8170184 ])"
      ]
     },
     "execution_count": 255,
     "metadata": {},
     "output_type": "execute_result"
    }
   ],
   "source": [
    "y_predict_dt = DT_model.predict(x_test)\n",
    "y_predict_dt"
   ]
  },
  {
   "cell_type": "code",
   "execution_count": 256,
   "id": "a0b0a524",
   "metadata": {},
   "outputs": [
    {
     "data": {
      "text/plain": [
       "array([ 23000.        , 200455.12713396, 200455.12713396, ...,\n",
       "         8495.        , 294000.        , 242739.        ])"
      ]
     },
     "execution_count": 256,
     "metadata": {},
     "output_type": "execute_result"
    }
   ],
   "source": [
    "y_test"
   ]
  },
  {
   "cell_type": "code",
   "execution_count": 257,
   "id": "d8f69c5f",
   "metadata": {},
   "outputs": [
    {
     "name": "stdout",
     "output_type": "stream",
     "text": [
      "0.46481448053351393\n",
      "0.5129039492480003\n"
     ]
    }
   ],
   "source": [
    "## Score\n",
    "train_data_score_dt = DT_model.score(x_train , y_train)\n",
    "test_data_score_dt = DT_model.score(x_test , y_test)\n",
    "\n",
    "print(train_data_score_dt)\n",
    "print(test_data_score_dt)"
   ]
  },
  {
   "cell_type": "markdown",
   "id": "2d72a1c4",
   "metadata": {},
   "source": [
    "----------\n",
    "## Lasso "
   ]
  },
  {
   "cell_type": "code",
   "execution_count": 258,
   "id": "66ae2816",
   "metadata": {},
   "outputs": [
    {
     "name": "stdout",
     "output_type": "stream",
     "text": [
      "Mean MAE: 76061.922 (4464.936)\n"
     ]
    }
   ],
   "source": [
    "from sklearn.linear_model import Ridge, Lasso\n",
    "from sklearn.model_selection import RepeatedKFold\n",
    "from sklearn.model_selection import cross_val_score\n",
    "from numpy import absolute\n",
    "from numpy import mean\n",
    "from numpy import std\n",
    "\n",
    "lasso_model = Lasso(alpha=1.0)\n",
    "cv = RepeatedKFold(n_splits=10, n_repeats=3, random_state=1)\n",
    "scores = cross_val_score(lasso_model, x, y, scoring='neg_mean_absolute_error', cv=cv, n_jobs=-1)\n",
    "scores = absolute(scores)\n",
    "\n",
    "print('Mean MAE: %.3f (%.3f)' % (mean(scores), std(scores)))"
   ]
  },
  {
   "cell_type": "code",
   "execution_count": 259,
   "id": "158aefa8",
   "metadata": {},
   "outputs": [
    {
     "data": {
      "text/plain": [
       "Lasso()"
      ]
     },
     "execution_count": 259,
     "metadata": {},
     "output_type": "execute_result"
    }
   ],
   "source": [
    "lasso_model.fit(x, y)"
   ]
  },
  {
   "cell_type": "code",
   "execution_count": 261,
   "id": "68282905",
   "metadata": {},
   "outputs": [
    {
     "name": "stdout",
     "output_type": "stream",
     "text": [
      "0.8076297971106696\n",
      "0.8179052681781303\n"
     ]
    }
   ],
   "source": [
    "## Score\n",
    "train_data_score_ls = lasso_model.score(x_train , y_train)\n",
    "test_data_score_ls = lasso_model.score(x_test , y_test)\n",
    "\n",
    "print(train_data_score_ls)\n",
    "print(test_data_score_ls)"
   ]
  },
  {
   "cell_type": "markdown",
   "id": "c1570850",
   "metadata": {},
   "source": [
    "------\n",
    "##  Ridge"
   ]
  },
  {
   "cell_type": "code",
   "execution_count": 262,
   "id": "3906912d",
   "metadata": {},
   "outputs": [
    {
     "data": {
      "text/plain": [
       "Ridge(alpha=1)"
      ]
     },
     "execution_count": 262,
     "metadata": {},
     "output_type": "execute_result"
    }
   ],
   "source": [
    "from sklearn.model_selection import RepeatedKFold\n",
    "from sklearn.linear_model import Ridge, Lasso\n",
    "\n",
    "rl = Ridge(alpha=1)\n",
    "rl.fit(X_train_scaled, y_train)"
   ]
  },
  {
   "cell_type": "code",
   "execution_count": 263,
   "id": "720022af",
   "metadata": {},
   "outputs": [
    {
     "name": "stdout",
     "output_type": "stream",
     "text": [
      "The Ridge regression train R^2 is: 0.822103530552917\n",
      "The Ridge regression test R^2 is: 0.5881970758518162\n"
     ]
    }
   ],
   "source": [
    "rl_train = rl.score(X_train_scaled, y_train)\n",
    "rl_test = rl.score(X_test_scaled, y_test)\n",
    "\n",
    "print(f'The Ridge regression train R^2 is: {rl_train}')\n",
    "print(f'The Ridge regression test R^2 is: {rl_test}')"
   ]
  },
  {
   "cell_type": "markdown",
   "id": "b8a1bd61",
   "metadata": {},
   "source": [
    "----\n",
    "## Ploynomial "
   ]
  },
  {
   "cell_type": "code",
   "execution_count": 264,
   "id": "65fa8a11",
   "metadata": {},
   "outputs": [
    {
     "ename": "MemoryError",
     "evalue": "Unable to allocate 90.0 TiB for an array with shape (4668, 2651323060) and data type float64",
     "output_type": "error",
     "traceback": [
      "\u001b[1;31m---------------------------------------------------------------------------\u001b[0m",
      "\u001b[1;31mMemoryError\u001b[0m                               Traceback (most recent call last)",
      "\u001b[1;32m<ipython-input-264-4bbbde9aae38>\u001b[0m in \u001b[0;36m<module>\u001b[1;34m\u001b[0m\n\u001b[0;32m      3\u001b[0m \u001b[0mpoly\u001b[0m \u001b[1;33m=\u001b[0m \u001b[0mPolynomialFeatures\u001b[0m\u001b[1;33m(\u001b[0m\u001b[0mdegree\u001b[0m\u001b[1;33m=\u001b[0m\u001b[1;36m3\u001b[0m\u001b[1;33m)\u001b[0m\u001b[1;33m\u001b[0m\u001b[1;33m\u001b[0m\u001b[0m\n\u001b[0;32m      4\u001b[0m \u001b[1;33m\u001b[0m\u001b[0m\n\u001b[1;32m----> 5\u001b[1;33m \u001b[0mX_train_poly\u001b[0m \u001b[1;33m=\u001b[0m \u001b[0mpoly\u001b[0m\u001b[1;33m.\u001b[0m\u001b[0mfit_transform\u001b[0m\u001b[1;33m(\u001b[0m\u001b[0mx_train\u001b[0m\u001b[1;33m)\u001b[0m\u001b[1;33m\u001b[0m\u001b[1;33m\u001b[0m\u001b[0m\n\u001b[0m\u001b[0;32m      6\u001b[0m \u001b[0mX_test_poly\u001b[0m \u001b[1;33m=\u001b[0m \u001b[0mpoly\u001b[0m\u001b[1;33m.\u001b[0m\u001b[0mtransform\u001b[0m\u001b[1;33m(\u001b[0m\u001b[0mx_test\u001b[0m\u001b[1;33m)\u001b[0m\u001b[1;33m\u001b[0m\u001b[1;33m\u001b[0m\u001b[0m\n\u001b[0;32m      7\u001b[0m \u001b[1;33m\u001b[0m\u001b[0m\n",
      "\u001b[1;32m~\\anaconda3\\lib\\site-packages\\sklearn\\base.py\u001b[0m in \u001b[0;36mfit_transform\u001b[1;34m(self, X, y, **fit_params)\u001b[0m\n\u001b[0;32m    697\u001b[0m         \u001b[1;32mif\u001b[0m \u001b[0my\u001b[0m \u001b[1;32mis\u001b[0m \u001b[1;32mNone\u001b[0m\u001b[1;33m:\u001b[0m\u001b[1;33m\u001b[0m\u001b[1;33m\u001b[0m\u001b[0m\n\u001b[0;32m    698\u001b[0m             \u001b[1;31m# fit method of arity 1 (unsupervised transformation)\u001b[0m\u001b[1;33m\u001b[0m\u001b[1;33m\u001b[0m\u001b[1;33m\u001b[0m\u001b[0m\n\u001b[1;32m--> 699\u001b[1;33m             \u001b[1;32mreturn\u001b[0m \u001b[0mself\u001b[0m\u001b[1;33m.\u001b[0m\u001b[0mfit\u001b[0m\u001b[1;33m(\u001b[0m\u001b[0mX\u001b[0m\u001b[1;33m,\u001b[0m \u001b[1;33m**\u001b[0m\u001b[0mfit_params\u001b[0m\u001b[1;33m)\u001b[0m\u001b[1;33m.\u001b[0m\u001b[0mtransform\u001b[0m\u001b[1;33m(\u001b[0m\u001b[0mX\u001b[0m\u001b[1;33m)\u001b[0m\u001b[1;33m\u001b[0m\u001b[1;33m\u001b[0m\u001b[0m\n\u001b[0m\u001b[0;32m    700\u001b[0m         \u001b[1;32melse\u001b[0m\u001b[1;33m:\u001b[0m\u001b[1;33m\u001b[0m\u001b[1;33m\u001b[0m\u001b[0m\n\u001b[0;32m    701\u001b[0m             \u001b[1;31m# fit method of arity 2 (supervised transformation)\u001b[0m\u001b[1;33m\u001b[0m\u001b[1;33m\u001b[0m\u001b[1;33m\u001b[0m\u001b[0m\n",
      "\u001b[1;32m~\\anaconda3\\lib\\site-packages\\sklearn\\preprocessing\\_data.py\u001b[0m in \u001b[0;36mtransform\u001b[1;34m(self, X)\u001b[0m\n\u001b[0;32m   1785\u001b[0m                 \u001b[0mXP\u001b[0m \u001b[1;33m=\u001b[0m \u001b[0msparse\u001b[0m\u001b[1;33m.\u001b[0m\u001b[0mhstack\u001b[0m\u001b[1;33m(\u001b[0m\u001b[0mcolumns\u001b[0m\u001b[1;33m,\u001b[0m \u001b[0mdtype\u001b[0m\u001b[1;33m=\u001b[0m\u001b[0mX\u001b[0m\u001b[1;33m.\u001b[0m\u001b[0mdtype\u001b[0m\u001b[1;33m)\u001b[0m\u001b[1;33m.\u001b[0m\u001b[0mtocsc\u001b[0m\u001b[1;33m(\u001b[0m\u001b[1;33m)\u001b[0m\u001b[1;33m\u001b[0m\u001b[1;33m\u001b[0m\u001b[0m\n\u001b[0;32m   1786\u001b[0m             \u001b[1;32melse\u001b[0m\u001b[1;33m:\u001b[0m\u001b[1;33m\u001b[0m\u001b[1;33m\u001b[0m\u001b[0m\n\u001b[1;32m-> 1787\u001b[1;33m                 XP = np.empty((n_samples, self.n_output_features_),\n\u001b[0m\u001b[0;32m   1788\u001b[0m                               dtype=X.dtype, order=self.order)\n\u001b[0;32m   1789\u001b[0m \u001b[1;33m\u001b[0m\u001b[0m\n",
      "\u001b[1;31mMemoryError\u001b[0m: Unable to allocate 90.0 TiB for an array with shape (4668, 2651323060) and data type float64"
     ]
    }
   ],
   "source": [
    "from sklearn.preprocessing import PolynomialFeatures\n",
    "\n",
    "poly = PolynomialFeatures(degree=3) \n",
    "\n",
    "X_train_poly = poly.fit_transform(x_train)\n",
    "X_test_poly = poly.transform(x_test)\n",
    "\n",
    "poly_model = LinearRegression()"
   ]
  },
  {
   "cell_type": "code",
   "execution_count": null,
   "id": "1b1aa9ff",
   "metadata": {},
   "outputs": [],
   "source": [
    "poly_model.fit(X_train_poly, y_train)"
   ]
  },
  {
   "cell_type": "code",
   "execution_count": null,
   "id": "ed8095a2",
   "metadata": {},
   "outputs": [],
   "source": [
    "poly_test=poly_model.score(X_test_poly, y_test)\n",
    "poly_train=poly_model.score(X_train_poly, y_train)\n",
    "\n",
    "print(f'The polynomial regression train R^2 is: {poly_train}')\n",
    "print(f'polynomial regression test R^2 is: {poly_test}')"
   ]
  }
 ],
 "metadata": {
  "kernelspec": {
   "display_name": "Python 3",
   "language": "python",
   "name": "python3"
  },
  "language_info": {
   "codemirror_mode": {
    "name": "ipython",
    "version": 3
   },
   "file_extension": ".py",
   "mimetype": "text/x-python",
   "name": "python",
   "nbconvert_exporter": "python",
   "pygments_lexer": "ipython3",
   "version": "3.8.8"
  }
 },
 "nbformat": 4,
 "nbformat_minor": 5
}
